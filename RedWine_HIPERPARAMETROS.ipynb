{
  "nbformat": 4,
  "nbformat_minor": 0,
  "metadata": {
    "colab": {
      "provenance": [],
      "mount_file_id": "1Lj8JBcoLQpUto9D0gCTzUFCQELA_mACj",
      "authorship_tag": "ABX9TyPX0U+zyK3w4swJOfcDfgZ0",
      "include_colab_link": true
    },
    "kernelspec": {
      "name": "python3",
      "display_name": "Python 3"
    },
    "language_info": {
      "name": "python"
    }
  },
  "cells": [
    {
      "cell_type": "markdown",
      "metadata": {
        "id": "view-in-github",
        "colab_type": "text"
      },
      "source": [
        "<a href=\"https://colab.research.google.com/github/luciotravassos/colab/blob/main/RedWine_HIPERPARAMETROS.ipynb\" target=\"_parent\"><img src=\"https://colab.research.google.com/assets/colab-badge.svg\" alt=\"Open In Colab\"/></a>"
      ]
    },
    {
      "cell_type": "code",
      "execution_count": 1,
      "metadata": {
        "id": "YmqkbJoa9PKn"
      },
      "outputs": [],
      "source": [
        "import pandas as pd\n",
        "import numpy as np\n",
        "%matplotlib inline"
      ]
    },
    {
      "cell_type": "code",
      "source": [
        "data = pd.read_csv(r\"/content/drive/MyDrive/Colab Notebooks/AI/Treinamento/RedWine/winequality-red.csv\")"
      ],
      "metadata": {
        "id": "VysflBua-PSg"
      },
      "execution_count": 2,
      "outputs": []
    },
    {
      "cell_type": "code",
      "source": [
        "data.head()"
      ],
      "metadata": {
        "colab": {
          "base_uri": "https://localhost:8080/",
          "height": 206
        },
        "id": "uerC1lxs-PXX",
        "outputId": "095c9a8a-1535-40a8-b872-adaeac74860c"
      },
      "execution_count": 6,
      "outputs": [
        {
          "output_type": "execute_result",
          "data": {
            "text/plain": [
              "   fixed acidity  volatile acidity  citric acid  residual sugar  chlorides  \\\n",
              "0            7.4              0.70         0.00             1.9      0.076   \n",
              "1            7.8              0.88         0.00             2.6      0.098   \n",
              "2            7.8              0.76         0.04             2.3      0.092   \n",
              "3           11.2              0.28         0.56             1.9      0.075   \n",
              "4            7.4              0.70         0.00             1.9      0.076   \n",
              "\n",
              "   free sulfur dioxide  total sulfur dioxide  density    pH  sulphates  \\\n",
              "0                 11.0                  34.0   0.9978  3.51       0.56   \n",
              "1                 25.0                  67.0   0.9968  3.20       0.68   \n",
              "2                 15.0                  54.0   0.9970  3.26       0.65   \n",
              "3                 17.0                  60.0   0.9980  3.16       0.58   \n",
              "4                 11.0                  34.0   0.9978  3.51       0.56   \n",
              "\n",
              "   alcohol  quality  vinho_bom  \n",
              "0      9.4        5          0  \n",
              "1      9.8        5          0  \n",
              "2      9.8        5          0  \n",
              "3      9.8        6          0  \n",
              "4      9.4        5          0  "
            ],
            "text/html": [
              "\n",
              "  <div id=\"df-69b182d4-b010-4001-9cf1-8c9eaa02f4ad\">\n",
              "    <div class=\"colab-df-container\">\n",
              "      <div>\n",
              "<style scoped>\n",
              "    .dataframe tbody tr th:only-of-type {\n",
              "        vertical-align: middle;\n",
              "    }\n",
              "\n",
              "    .dataframe tbody tr th {\n",
              "        vertical-align: top;\n",
              "    }\n",
              "\n",
              "    .dataframe thead th {\n",
              "        text-align: right;\n",
              "    }\n",
              "</style>\n",
              "<table border=\"1\" class=\"dataframe\">\n",
              "  <thead>\n",
              "    <tr style=\"text-align: right;\">\n",
              "      <th></th>\n",
              "      <th>fixed acidity</th>\n",
              "      <th>volatile acidity</th>\n",
              "      <th>citric acid</th>\n",
              "      <th>residual sugar</th>\n",
              "      <th>chlorides</th>\n",
              "      <th>free sulfur dioxide</th>\n",
              "      <th>total sulfur dioxide</th>\n",
              "      <th>density</th>\n",
              "      <th>pH</th>\n",
              "      <th>sulphates</th>\n",
              "      <th>alcohol</th>\n",
              "      <th>quality</th>\n",
              "      <th>vinho_bom</th>\n",
              "    </tr>\n",
              "  </thead>\n",
              "  <tbody>\n",
              "    <tr>\n",
              "      <th>0</th>\n",
              "      <td>7.4</td>\n",
              "      <td>0.70</td>\n",
              "      <td>0.00</td>\n",
              "      <td>1.9</td>\n",
              "      <td>0.076</td>\n",
              "      <td>11.0</td>\n",
              "      <td>34.0</td>\n",
              "      <td>0.9978</td>\n",
              "      <td>3.51</td>\n",
              "      <td>0.56</td>\n",
              "      <td>9.4</td>\n",
              "      <td>5</td>\n",
              "      <td>0</td>\n",
              "    </tr>\n",
              "    <tr>\n",
              "      <th>1</th>\n",
              "      <td>7.8</td>\n",
              "      <td>0.88</td>\n",
              "      <td>0.00</td>\n",
              "      <td>2.6</td>\n",
              "      <td>0.098</td>\n",
              "      <td>25.0</td>\n",
              "      <td>67.0</td>\n",
              "      <td>0.9968</td>\n",
              "      <td>3.20</td>\n",
              "      <td>0.68</td>\n",
              "      <td>9.8</td>\n",
              "      <td>5</td>\n",
              "      <td>0</td>\n",
              "    </tr>\n",
              "    <tr>\n",
              "      <th>2</th>\n",
              "      <td>7.8</td>\n",
              "      <td>0.76</td>\n",
              "      <td>0.04</td>\n",
              "      <td>2.3</td>\n",
              "      <td>0.092</td>\n",
              "      <td>15.0</td>\n",
              "      <td>54.0</td>\n",
              "      <td>0.9970</td>\n",
              "      <td>3.26</td>\n",
              "      <td>0.65</td>\n",
              "      <td>9.8</td>\n",
              "      <td>5</td>\n",
              "      <td>0</td>\n",
              "    </tr>\n",
              "    <tr>\n",
              "      <th>3</th>\n",
              "      <td>11.2</td>\n",
              "      <td>0.28</td>\n",
              "      <td>0.56</td>\n",
              "      <td>1.9</td>\n",
              "      <td>0.075</td>\n",
              "      <td>17.0</td>\n",
              "      <td>60.0</td>\n",
              "      <td>0.9980</td>\n",
              "      <td>3.16</td>\n",
              "      <td>0.58</td>\n",
              "      <td>9.8</td>\n",
              "      <td>6</td>\n",
              "      <td>0</td>\n",
              "    </tr>\n",
              "    <tr>\n",
              "      <th>4</th>\n",
              "      <td>7.4</td>\n",
              "      <td>0.70</td>\n",
              "      <td>0.00</td>\n",
              "      <td>1.9</td>\n",
              "      <td>0.076</td>\n",
              "      <td>11.0</td>\n",
              "      <td>34.0</td>\n",
              "      <td>0.9978</td>\n",
              "      <td>3.51</td>\n",
              "      <td>0.56</td>\n",
              "      <td>9.4</td>\n",
              "      <td>5</td>\n",
              "      <td>0</td>\n",
              "    </tr>\n",
              "  </tbody>\n",
              "</table>\n",
              "</div>\n",
              "      <button class=\"colab-df-convert\" onclick=\"convertToInteractive('df-69b182d4-b010-4001-9cf1-8c9eaa02f4ad')\"\n",
              "              title=\"Convert this dataframe to an interactive table.\"\n",
              "              style=\"display:none;\">\n",
              "        \n",
              "  <svg xmlns=\"http://www.w3.org/2000/svg\" height=\"24px\"viewBox=\"0 0 24 24\"\n",
              "       width=\"24px\">\n",
              "    <path d=\"M0 0h24v24H0V0z\" fill=\"none\"/>\n",
              "    <path d=\"M18.56 5.44l.94 2.06.94-2.06 2.06-.94-2.06-.94-.94-2.06-.94 2.06-2.06.94zm-11 1L8.5 8.5l.94-2.06 2.06-.94-2.06-.94L8.5 2.5l-.94 2.06-2.06.94zm10 10l.94 2.06.94-2.06 2.06-.94-2.06-.94-.94-2.06-.94 2.06-2.06.94z\"/><path d=\"M17.41 7.96l-1.37-1.37c-.4-.4-.92-.59-1.43-.59-.52 0-1.04.2-1.43.59L10.3 9.45l-7.72 7.72c-.78.78-.78 2.05 0 2.83L4 21.41c.39.39.9.59 1.41.59.51 0 1.02-.2 1.41-.59l7.78-7.78 2.81-2.81c.8-.78.8-2.07 0-2.86zM5.41 20L4 18.59l7.72-7.72 1.47 1.35L5.41 20z\"/>\n",
              "  </svg>\n",
              "      </button>\n",
              "      \n",
              "  <style>\n",
              "    .colab-df-container {\n",
              "      display:flex;\n",
              "      flex-wrap:wrap;\n",
              "      gap: 12px;\n",
              "    }\n",
              "\n",
              "    .colab-df-convert {\n",
              "      background-color: #E8F0FE;\n",
              "      border: none;\n",
              "      border-radius: 50%;\n",
              "      cursor: pointer;\n",
              "      display: none;\n",
              "      fill: #1967D2;\n",
              "      height: 32px;\n",
              "      padding: 0 0 0 0;\n",
              "      width: 32px;\n",
              "    }\n",
              "\n",
              "    .colab-df-convert:hover {\n",
              "      background-color: #E2EBFA;\n",
              "      box-shadow: 0px 1px 2px rgba(60, 64, 67, 0.3), 0px 1px 3px 1px rgba(60, 64, 67, 0.15);\n",
              "      fill: #174EA6;\n",
              "    }\n",
              "\n",
              "    [theme=dark] .colab-df-convert {\n",
              "      background-color: #3B4455;\n",
              "      fill: #D2E3FC;\n",
              "    }\n",
              "\n",
              "    [theme=dark] .colab-df-convert:hover {\n",
              "      background-color: #434B5C;\n",
              "      box-shadow: 0px 1px 3px 1px rgba(0, 0, 0, 0.15);\n",
              "      filter: drop-shadow(0px 1px 2px rgba(0, 0, 0, 0.3));\n",
              "      fill: #FFFFFF;\n",
              "    }\n",
              "  </style>\n",
              "\n",
              "      <script>\n",
              "        const buttonEl =\n",
              "          document.querySelector('#df-69b182d4-b010-4001-9cf1-8c9eaa02f4ad button.colab-df-convert');\n",
              "        buttonEl.style.display =\n",
              "          google.colab.kernel.accessAllowed ? 'block' : 'none';\n",
              "\n",
              "        async function convertToInteractive(key) {\n",
              "          const element = document.querySelector('#df-69b182d4-b010-4001-9cf1-8c9eaa02f4ad');\n",
              "          const dataTable =\n",
              "            await google.colab.kernel.invokeFunction('convertToInteractive',\n",
              "                                                     [key], {});\n",
              "          if (!dataTable) return;\n",
              "\n",
              "          const docLinkHtml = 'Like what you see? Visit the ' +\n",
              "            '<a target=\"_blank\" href=https://colab.research.google.com/notebooks/data_table.ipynb>data table notebook</a>'\n",
              "            + ' to learn more about interactive tables.';\n",
              "          element.innerHTML = '';\n",
              "          dataTable['output_type'] = 'display_data';\n",
              "          await google.colab.output.renderOutput(dataTable, element);\n",
              "          const docLink = document.createElement('div');\n",
              "          docLink.innerHTML = docLinkHtml;\n",
              "          element.appendChild(docLink);\n",
              "        }\n",
              "      </script>\n",
              "    </div>\n",
              "  </div>\n",
              "  "
            ]
          },
          "metadata": {},
          "execution_count": 6
        }
      ]
    },
    {
      "cell_type": "code",
      "source": [
        "data['quality'].value_counts().sort_index()"
      ],
      "metadata": {
        "colab": {
          "base_uri": "https://localhost:8080/"
        },
        "id": "HbtrUMDD-PaK",
        "outputId": "b78c37a1-3a5d-4494-bc20-2cd241c53048"
      },
      "execution_count": 4,
      "outputs": [
        {
          "output_type": "execute_result",
          "data": {
            "text/plain": [
              "3     10\n",
              "4     53\n",
              "5    681\n",
              "6    638\n",
              "7    199\n",
              "8     18\n",
              "Name: quality, dtype: int64"
            ]
          },
          "metadata": {},
          "execution_count": 4
        }
      ]
    },
    {
      "cell_type": "code",
      "source": [
        "data['vinho_bom'] = data['quality'].map(lambda x: 0 if x < 7 else 1)"
      ],
      "metadata": {
        "id": "QssO1FpR-Pcn"
      },
      "execution_count": 5,
      "outputs": []
    },
    {
      "cell_type": "code",
      "source": [
        "from lightgbm import LGBMClassifier"
      ],
      "metadata": {
        "id": "jXIZ7rdd-PhF"
      },
      "execution_count": 7,
      "outputs": []
    },
    {
      "cell_type": "code",
      "source": [
        "from sklearn.model_selection import train_test_split"
      ],
      "metadata": {
        "id": "W4FvhaJI_b4b"
      },
      "execution_count": 8,
      "outputs": []
    },
    {
      "cell_type": "code",
      "source": [
        "Xtrain, Xtest, ytrain, ytest = train_test_split(data.iloc[:, :-2], data['vinho_bom'], train_size=0.5) #pegando todas as colunas menos as duas ultimas e vinho bom é o alvo"
      ],
      "metadata": {
        "id": "cmZvA_h0_b12"
      },
      "execution_count": 9,
      "outputs": []
    },
    {
      "cell_type": "code",
      "source": [
        "Xtrain.shape, Xtest.shape, ytrain.shape, ytest.shape"
      ],
      "metadata": {
        "colab": {
          "base_uri": "https://localhost:8080/"
        },
        "id": "q0UW8EEU_bzT",
        "outputId": "f3557057-78d0-4026-c1c4-bd90c54ac00f"
      },
      "execution_count": 10,
      "outputs": [
        {
          "output_type": "execute_result",
          "data": {
            "text/plain": [
              "((799, 11), (800, 11), (799,), (800,))"
            ]
          },
          "metadata": {},
          "execution_count": 10
        }
      ]
    },
    {
      "cell_type": "code",
      "source": [
        "Xtrain.head()"
      ],
      "metadata": {
        "colab": {
          "base_uri": "https://localhost:8080/",
          "height": 206
        },
        "id": "nMbSVSKK_bvJ",
        "outputId": "423a51a3-2283-4442-b4bb-2ea35961c90c"
      },
      "execution_count": 11,
      "outputs": [
        {
          "output_type": "execute_result",
          "data": {
            "text/plain": [
              "      fixed acidity  volatile acidity  citric acid  residual sugar  chlorides  \\\n",
              "544            14.3             0.310         0.74             1.8      0.075   \n",
              "308            10.3             0.430         0.44             2.4      0.214   \n",
              "689             8.1             0.380         0.48             1.8      0.157   \n",
              "598             8.5             0.585         0.18             2.1      0.078   \n",
              "1045            6.9             0.440         0.00             1.4      0.070   \n",
              "\n",
              "      free sulfur dioxide  total sulfur dioxide  density    pH  sulphates  \\\n",
              "544                   6.0                  15.0  1.00080  2.86       0.79   \n",
              "308                   5.0                  12.0  0.99940  3.19       0.63   \n",
              "689                   5.0                  17.0  0.99760  3.30       1.05   \n",
              "598                   5.0                  30.0  0.99670  3.20       0.48   \n",
              "1045                 32.0                  38.0  0.99438  3.32       0.58   \n",
              "\n",
              "      alcohol  \n",
              "544       8.4  \n",
              "308       9.5  \n",
              "689       9.4  \n",
              "598       9.8  \n",
              "1045     11.4  "
            ],
            "text/html": [
              "\n",
              "  <div id=\"df-63c7b781-8ba5-42a0-98b7-95016142dd80\">\n",
              "    <div class=\"colab-df-container\">\n",
              "      <div>\n",
              "<style scoped>\n",
              "    .dataframe tbody tr th:only-of-type {\n",
              "        vertical-align: middle;\n",
              "    }\n",
              "\n",
              "    .dataframe tbody tr th {\n",
              "        vertical-align: top;\n",
              "    }\n",
              "\n",
              "    .dataframe thead th {\n",
              "        text-align: right;\n",
              "    }\n",
              "</style>\n",
              "<table border=\"1\" class=\"dataframe\">\n",
              "  <thead>\n",
              "    <tr style=\"text-align: right;\">\n",
              "      <th></th>\n",
              "      <th>fixed acidity</th>\n",
              "      <th>volatile acidity</th>\n",
              "      <th>citric acid</th>\n",
              "      <th>residual sugar</th>\n",
              "      <th>chlorides</th>\n",
              "      <th>free sulfur dioxide</th>\n",
              "      <th>total sulfur dioxide</th>\n",
              "      <th>density</th>\n",
              "      <th>pH</th>\n",
              "      <th>sulphates</th>\n",
              "      <th>alcohol</th>\n",
              "    </tr>\n",
              "  </thead>\n",
              "  <tbody>\n",
              "    <tr>\n",
              "      <th>544</th>\n",
              "      <td>14.3</td>\n",
              "      <td>0.310</td>\n",
              "      <td>0.74</td>\n",
              "      <td>1.8</td>\n",
              "      <td>0.075</td>\n",
              "      <td>6.0</td>\n",
              "      <td>15.0</td>\n",
              "      <td>1.00080</td>\n",
              "      <td>2.86</td>\n",
              "      <td>0.79</td>\n",
              "      <td>8.4</td>\n",
              "    </tr>\n",
              "    <tr>\n",
              "      <th>308</th>\n",
              "      <td>10.3</td>\n",
              "      <td>0.430</td>\n",
              "      <td>0.44</td>\n",
              "      <td>2.4</td>\n",
              "      <td>0.214</td>\n",
              "      <td>5.0</td>\n",
              "      <td>12.0</td>\n",
              "      <td>0.99940</td>\n",
              "      <td>3.19</td>\n",
              "      <td>0.63</td>\n",
              "      <td>9.5</td>\n",
              "    </tr>\n",
              "    <tr>\n",
              "      <th>689</th>\n",
              "      <td>8.1</td>\n",
              "      <td>0.380</td>\n",
              "      <td>0.48</td>\n",
              "      <td>1.8</td>\n",
              "      <td>0.157</td>\n",
              "      <td>5.0</td>\n",
              "      <td>17.0</td>\n",
              "      <td>0.99760</td>\n",
              "      <td>3.30</td>\n",
              "      <td>1.05</td>\n",
              "      <td>9.4</td>\n",
              "    </tr>\n",
              "    <tr>\n",
              "      <th>598</th>\n",
              "      <td>8.5</td>\n",
              "      <td>0.585</td>\n",
              "      <td>0.18</td>\n",
              "      <td>2.1</td>\n",
              "      <td>0.078</td>\n",
              "      <td>5.0</td>\n",
              "      <td>30.0</td>\n",
              "      <td>0.99670</td>\n",
              "      <td>3.20</td>\n",
              "      <td>0.48</td>\n",
              "      <td>9.8</td>\n",
              "    </tr>\n",
              "    <tr>\n",
              "      <th>1045</th>\n",
              "      <td>6.9</td>\n",
              "      <td>0.440</td>\n",
              "      <td>0.00</td>\n",
              "      <td>1.4</td>\n",
              "      <td>0.070</td>\n",
              "      <td>32.0</td>\n",
              "      <td>38.0</td>\n",
              "      <td>0.99438</td>\n",
              "      <td>3.32</td>\n",
              "      <td>0.58</td>\n",
              "      <td>11.4</td>\n",
              "    </tr>\n",
              "  </tbody>\n",
              "</table>\n",
              "</div>\n",
              "      <button class=\"colab-df-convert\" onclick=\"convertToInteractive('df-63c7b781-8ba5-42a0-98b7-95016142dd80')\"\n",
              "              title=\"Convert this dataframe to an interactive table.\"\n",
              "              style=\"display:none;\">\n",
              "        \n",
              "  <svg xmlns=\"http://www.w3.org/2000/svg\" height=\"24px\"viewBox=\"0 0 24 24\"\n",
              "       width=\"24px\">\n",
              "    <path d=\"M0 0h24v24H0V0z\" fill=\"none\"/>\n",
              "    <path d=\"M18.56 5.44l.94 2.06.94-2.06 2.06-.94-2.06-.94-.94-2.06-.94 2.06-2.06.94zm-11 1L8.5 8.5l.94-2.06 2.06-.94-2.06-.94L8.5 2.5l-.94 2.06-2.06.94zm10 10l.94 2.06.94-2.06 2.06-.94-2.06-.94-.94-2.06-.94 2.06-2.06.94z\"/><path d=\"M17.41 7.96l-1.37-1.37c-.4-.4-.92-.59-1.43-.59-.52 0-1.04.2-1.43.59L10.3 9.45l-7.72 7.72c-.78.78-.78 2.05 0 2.83L4 21.41c.39.39.9.59 1.41.59.51 0 1.02-.2 1.41-.59l7.78-7.78 2.81-2.81c.8-.78.8-2.07 0-2.86zM5.41 20L4 18.59l7.72-7.72 1.47 1.35L5.41 20z\"/>\n",
              "  </svg>\n",
              "      </button>\n",
              "      \n",
              "  <style>\n",
              "    .colab-df-container {\n",
              "      display:flex;\n",
              "      flex-wrap:wrap;\n",
              "      gap: 12px;\n",
              "    }\n",
              "\n",
              "    .colab-df-convert {\n",
              "      background-color: #E8F0FE;\n",
              "      border: none;\n",
              "      border-radius: 50%;\n",
              "      cursor: pointer;\n",
              "      display: none;\n",
              "      fill: #1967D2;\n",
              "      height: 32px;\n",
              "      padding: 0 0 0 0;\n",
              "      width: 32px;\n",
              "    }\n",
              "\n",
              "    .colab-df-convert:hover {\n",
              "      background-color: #E2EBFA;\n",
              "      box-shadow: 0px 1px 2px rgba(60, 64, 67, 0.3), 0px 1px 3px 1px rgba(60, 64, 67, 0.15);\n",
              "      fill: #174EA6;\n",
              "    }\n",
              "\n",
              "    [theme=dark] .colab-df-convert {\n",
              "      background-color: #3B4455;\n",
              "      fill: #D2E3FC;\n",
              "    }\n",
              "\n",
              "    [theme=dark] .colab-df-convert:hover {\n",
              "      background-color: #434B5C;\n",
              "      box-shadow: 0px 1px 3px 1px rgba(0, 0, 0, 0.15);\n",
              "      filter: drop-shadow(0px 1px 2px rgba(0, 0, 0, 0.3));\n",
              "      fill: #FFFFFF;\n",
              "    }\n",
              "  </style>\n",
              "\n",
              "      <script>\n",
              "        const buttonEl =\n",
              "          document.querySelector('#df-63c7b781-8ba5-42a0-98b7-95016142dd80 button.colab-df-convert');\n",
              "        buttonEl.style.display =\n",
              "          google.colab.kernel.accessAllowed ? 'block' : 'none';\n",
              "\n",
              "        async function convertToInteractive(key) {\n",
              "          const element = document.querySelector('#df-63c7b781-8ba5-42a0-98b7-95016142dd80');\n",
              "          const dataTable =\n",
              "            await google.colab.kernel.invokeFunction('convertToInteractive',\n",
              "                                                     [key], {});\n",
              "          if (!dataTable) return;\n",
              "\n",
              "          const docLinkHtml = 'Like what you see? Visit the ' +\n",
              "            '<a target=\"_blank\" href=https://colab.research.google.com/notebooks/data_table.ipynb>data table notebook</a>'\n",
              "            + ' to learn more about interactive tables.';\n",
              "          element.innerHTML = '';\n",
              "          dataTable['output_type'] = 'display_data';\n",
              "          await google.colab.output.renderOutput(dataTable, element);\n",
              "          const docLink = document.createElement('div');\n",
              "          docLink.innerHTML = docLinkHtml;\n",
              "          element.appendChild(docLink);\n",
              "        }\n",
              "      </script>\n",
              "    </div>\n",
              "  </div>\n",
              "  "
            ]
          },
          "metadata": {},
          "execution_count": 11
        }
      ]
    },
    {
      "cell_type": "code",
      "source": [
        "mdl = LGBMClassifier(random_state=0)\n",
        "mdl.fit(Xtrain, ytrain)"
      ],
      "metadata": {
        "colab": {
          "base_uri": "https://localhost:8080/"
        },
        "id": "zX2QxMZV_bsp",
        "outputId": "6c129886-3632-46a1-cec6-ed0f84c9bc39"
      },
      "execution_count": 12,
      "outputs": [
        {
          "output_type": "execute_result",
          "data": {
            "text/plain": [
              "LGBMClassifier(random_state=0)"
            ]
          },
          "metadata": {},
          "execution_count": 12
        }
      ]
    },
    {
      "cell_type": "code",
      "source": [
        "from sklearn.metrics import roc_auc_score\n",
        "p = mdl.predict_proba(Xtest)[:, 1]"
      ],
      "metadata": {
        "id": "DfhXAuwjAmVR"
      },
      "execution_count": 13,
      "outputs": []
    },
    {
      "cell_type": "code",
      "source": [
        "roc_auc_score(ytest, p)"
      ],
      "metadata": {
        "colab": {
          "base_uri": "https://localhost:8080/"
        },
        "id": "po-HBsxQAmOU",
        "outputId": "8c15efc6-5139-479a-9d97-06047a5b0857"
      },
      "execution_count": 14,
      "outputs": [
        {
          "output_type": "execute_result",
          "data": {
            "text/plain": [
              "0.8828876212053782"
            ]
          },
          "metadata": {},
          "execution_count": 14
        }
      ]
    },
    {
      "cell_type": "code",
      "source": [
        "# Otimização Baysiana"
      ],
      "metadata": {
        "id": "y-itgm0JAmMB"
      },
      "execution_count": 21,
      "outputs": []
    },
    {
      "cell_type": "code",
      "source": [
        "#pip install scikit-optimize"
      ],
      "metadata": {
        "colab": {
          "base_uri": "https://localhost:8080/"
        },
        "id": "NggRSqh2GMIu",
        "outputId": "e8236268-5129-4895-d01b-19f9aa39a9a4"
      },
      "execution_count": 26,
      "outputs": [
        {
          "output_type": "stream",
          "name": "stdout",
          "text": [
            "Looking in indexes: https://pypi.org/simple, https://us-python.pkg.dev/colab-wheels/public/simple/\n",
            "Collecting scikit-optimize\n",
            "  Downloading scikit_optimize-0.9.0-py2.py3-none-any.whl (100 kB)\n",
            "\u001b[K     |████████████████████████████████| 100 kB 5.1 MB/s \n",
            "\u001b[?25hRequirement already satisfied: scikit-learn>=0.20.0 in /usr/local/lib/python3.8/dist-packages (from scikit-optimize) (1.0.2)\n",
            "Requirement already satisfied: scipy>=0.19.1 in /usr/local/lib/python3.8/dist-packages (from scikit-optimize) (1.7.3)\n",
            "Collecting pyaml>=16.9\n",
            "  Downloading pyaml-21.10.1-py2.py3-none-any.whl (24 kB)\n",
            "Requirement already satisfied: numpy>=1.13.3 in /usr/local/lib/python3.8/dist-packages (from scikit-optimize) (1.21.6)\n",
            "Requirement already satisfied: joblib>=0.11 in /usr/local/lib/python3.8/dist-packages (from scikit-optimize) (1.2.0)\n",
            "Requirement already satisfied: PyYAML in /usr/local/lib/python3.8/dist-packages (from pyaml>=16.9->scikit-optimize) (6.0)\n",
            "Requirement already satisfied: threadpoolctl>=2.0.0 in /usr/local/lib/python3.8/dist-packages (from scikit-learn>=0.20.0->scikit-optimize) (3.1.0)\n",
            "Installing collected packages: pyaml, scikit-optimize\n",
            "Successfully installed pyaml-21.10.1 scikit-optimize-0.9.0\n"
          ]
        }
      ]
    },
    {
      "cell_type": "code",
      "source": [
        "def treinar_modelo(params):\n",
        "    learning_rate = params[0]\n",
        "    num_leaves = params[1]\n",
        "    min_child_samples = params[2]\n",
        "    subsample = params[3]\n",
        "    colsample_bytree = params[4]\n",
        "    \n",
        "    print(params, '\\n')\n",
        "    \n",
        "    mdl = LGBMClassifier(learning_rate=learning_rate, num_leaves=num_leaves, min_child_samples=min_child_samples,\n",
        "                        subsample=subsample, colsample_bytree=colsample_bytree, random_state=0, subsample_freq=1, \n",
        "                         n_estimators=100)\n",
        "    mdl.fit(Xtrain, ytrain)\n",
        "    \n",
        "    p = mdl.predict_proba(Xtest)[:,1]\n",
        "    \n",
        "    return -roc_auc_score(ytest, p)\n",
        "\n",
        "space = [(1e-3, 1e-1, 'log-uniform'), #learning rate\n",
        "         (2, 128), # num_leaves\n",
        "         (1, 100), # min_child_samples\n",
        "         (0.05, 1.0), # subsample\n",
        "         (0.1, 1.0)] # colsample bytree\n",
        "\n"
      ],
      "metadata": {
        "id": "M9sqaiB5HFXI"
      },
      "execution_count": 32,
      "outputs": []
    },
    {
      "cell_type": "code",
      "source": [
        "#resultado = dummy_minimize(treinar_modelo, space, random_state=1, verbose=1, n_calls=30)"
      ],
      "metadata": {
        "id": "qXNyevWeHIDg"
      },
      "execution_count": 31,
      "outputs": []
    },
    {
      "cell_type": "code",
      "source": [
        "from skopt import gp_minimize"
      ],
      "metadata": {
        "id": "3qEWOVFHEJKc"
      },
      "execution_count": 27,
      "outputs": []
    },
    {
      "cell_type": "code",
      "source": [
        "resultados_gp = gp_minimize(treinar_modelo, space, random_state=1, verbose=1, n_calls=30, n_random_starts=10)"
      ],
      "metadata": {
        "colab": {
          "base_uri": "https://localhost:8080/"
        },
        "id": "0HaIc6J0EJFo",
        "outputId": "e075b965-1267-4f06-a4ab-6645b93e9761"
      },
      "execution_count": 36,
      "outputs": [
        {
          "output_type": "stream",
          "name": "stdout",
          "text": [
            "Iteration No: 1 started. Evaluating function at random point.\n",
            "[0.09871192514273254, 120, 14, 0.9990884895579377, 0.3124800792567785] \n",
            "\n",
            "Iteration No: 1 ended. Evaluation done at random point.\n",
            "Time taken: 0.0832\n",
            "Function value obtained: -0.9033\n",
            "Current minimum: -0.9033\n",
            "Iteration No: 2 started. Evaluating function at random point.\n",
            "[0.006210998932353835, 51, 67, 0.9387621172657304, 0.8616798250174156] \n",
            "\n",
            "Iteration No: 2 ended. Evaluation done at random point.\n",
            "Time taken: 0.0371\n",
            "Function value obtained: -0.8759\n",
            "Current minimum: -0.9033\n",
            "Iteration No: 3 started. Evaluating function at random point.\n",
            "[0.004232013397179603, 68, 45, 0.2680983530433343, 0.5809725180523154] \n",
            "\n",
            "Iteration No: 3 ended. Evaluation done at random point.\n",
            "Time taken: 0.0270\n",
            "Function value obtained: -0.8714\n",
            "Current minimum: -0.9033\n",
            "Iteration No: 4 started. Evaluating function at random point.\n",
            "[0.0672858974212934, 60, 44, 0.9421713999524447, 0.8005503127028804] \n",
            "\n",
            "Iteration No: 4 ended. Evaluation done at random point.\n",
            "Time taken: 0.0463\n",
            "Function value obtained: -0.8983\n",
            "Current minimum: -0.9033\n",
            "Iteration No: 5 started. Evaluating function at random point.\n",
            "[0.027035912483147396, 103, 10, 0.5422449214947946, 0.8785182267810853] \n",
            "\n",
            "Iteration No: 5 ended. Evaluation done at random point.\n",
            "Time taken: 0.0894\n",
            "Function value obtained: -0.8992\n",
            "Current minimum: -0.9033\n",
            "Iteration No: 6 started. Evaluating function at random point.\n",
            "[0.045529597892867466, 107, 28, 0.1062810412364853, 0.7034752360620511] \n",
            "\n",
            "Iteration No: 6 ended. Evaluation done at random point.\n",
            "Time taken: 0.0224\n",
            "Function value obtained: -0.8645\n",
            "Current minimum: -0.9033\n",
            "Iteration No: 7 started. Evaluating function at random point.\n",
            "[0.01535080081765723, 87, 42, 0.23767335308554222, 0.3606666764912312] \n",
            "\n",
            "Iteration No: 7 ended. Evaluation done at random point.\n",
            "Time taken: 0.0259\n",
            "Function value obtained: -0.8681\n",
            "Current minimum: -0.9033\n",
            "Iteration No: 8 started. Evaluating function at random point.\n",
            "[0.0019241559628256106, 101, 42, 0.0824627456265471, 0.661626987829618] \n",
            "\n",
            "Iteration No: 8 ended. Evaluation done at random point.\n",
            "Time taken: 0.0159\n",
            "Function value obtained: -0.5000\n",
            "Current minimum: -0.9033\n",
            "Iteration No: 9 started. Evaluating function at random point.\n",
            "[0.02095421812724112, 40, 45, 0.2610183201586061, 0.16602775456833962] \n",
            "\n",
            "Iteration No: 9 ended. Evaluation done at random point.\n",
            "Time taken: 0.0247\n",
            "Function value obtained: -0.8611\n",
            "Current minimum: -0.9033\n",
            "Iteration No: 10 started. Evaluating function at random point.\n",
            "[0.008679147174590262, 14, 90, 0.163515944581681, 0.5723194391834011] \n",
            "\n",
            "Iteration No: 10 ended. Evaluation done at random point.\n",
            "Time taken: 0.5767\n",
            "Function value obtained: -0.5000\n",
            "Current minimum: -0.9033\n",
            "Iteration No: 11 started. Searching for the next optimal point.\n",
            "[0.00904027490149892, 122, 1, 0.32200144971120953, 0.9944440729668585] \n",
            "\n",
            "Iteration No: 11 ended. Search finished for the next optimal point.\n",
            "Time taken: 0.8557\n",
            "Function value obtained: -0.8953\n",
            "Current minimum: -0.9033\n",
            "Iteration No: 12 started. Searching for the next optimal point.\n",
            "[0.008645115147823517, 128, 23, 0.2834397912795715, 0.7690265738120985] \n",
            "\n",
            "Iteration No: 12 ended. Search finished for the next optimal point.\n",
            "Time taken: 0.5634\n",
            "Function value obtained: -0.8834\n",
            "Current minimum: -0.9033\n",
            "Iteration No: 13 started. Searching for the next optimal point.\n",
            "[0.1, 128, 12, 0.14383136536657615, 0.6456374749867589] \n",
            "\n",
            "Iteration No: 13 ended. Search finished for the next optimal point.\n",
            "Time taken: 0.5580\n",
            "Function value obtained: -0.8769\n",
            "Current minimum: -0.9033\n",
            "Iteration No: 14 started. Searching for the next optimal point.\n",
            "[0.005866137727261996, 38, 1, 0.4150611277172162, 0.709326638469127] \n",
            "\n",
            "Iteration No: 14 ended. Search finished for the next optimal point.\n",
            "Time taken: 0.6335\n",
            "Function value obtained: -0.9027\n",
            "Current minimum: -0.9033\n",
            "Iteration No: 15 started. Searching for the next optimal point.\n",
            "[0.002126598001013012, 73, 33, 0.3814484801426803, 0.8904399312025634] \n",
            "\n",
            "Iteration No: 15 ended. Search finished for the next optimal point.\n",
            "Time taken: 0.7437\n",
            "Function value obtained: -0.8726\n",
            "Current minimum: -0.9033\n",
            "Iteration No: 16 started. Searching for the next optimal point.\n",
            "[0.049060720723448255, 40, 13, 0.9208113258479887, 0.3349531735214173] \n",
            "\n",
            "Iteration No: 16 ended. Search finished for the next optimal point.\n",
            "Time taken: 0.6560\n",
            "Function value obtained: -0.9007\n",
            "Current minimum: -0.9033\n",
            "Iteration No: 17 started. Searching for the next optimal point.\n",
            "[0.0010572620982623804, 116, 1, 0.7155519222601497, 0.285506639647263] \n",
            "\n",
            "Iteration No: 17 ended. Search finished for the next optimal point.\n",
            "Time taken: 0.7709\n",
            "Function value obtained: -0.8920\n",
            "Current minimum: -0.9033\n",
            "Iteration No: 18 started. Searching for the next optimal point.\n",
            "[0.001, 94, 1, 1.0, 0.3709648387386949] \n",
            "\n",
            "Iteration No: 18 ended. Search finished for the next optimal point.\n",
            "Time taken: 0.8196\n",
            "Function value obtained: -0.9021\n",
            "Current minimum: -0.9033\n",
            "Iteration No: 19 started. Searching for the next optimal point.\n",
            "[0.1, 70, 65, 0.7101900046435219, 0.12848355027848263] \n",
            "\n",
            "Iteration No: 19 ended. Search finished for the next optimal point.\n",
            "Time taken: 0.8230\n",
            "Function value obtained: -0.8787\n",
            "Current minimum: -0.9033\n",
            "Iteration No: 20 started. Searching for the next optimal point.\n",
            "[0.1, 126, 1, 0.7163178270224878, 0.7627165495034749] \n",
            "\n",
            "Iteration No: 20 ended. Search finished for the next optimal point.\n",
            "Time taken: 0.8744\n",
            "Function value obtained: -0.8878\n",
            "Current minimum: -0.9033\n",
            "Iteration No: 21 started. Searching for the next optimal point.\n",
            "[0.06808997706776367, 98, 18, 0.12779322611444852, 0.9809639103415054] \n",
            "\n",
            "Iteration No: 21 ended. Search finished for the next optimal point.\n",
            "Time taken: 0.5959\n",
            "Function value obtained: -0.8765\n",
            "Current minimum: -0.9033\n",
            "Iteration No: 22 started. Searching for the next optimal point.\n",
            "[0.03643067409908962, 118, 100, 1.0, 0.6428900622340007] \n",
            "\n",
            "Iteration No: 22 ended. Search finished for the next optimal point.\n",
            "Time taken: 0.6765\n",
            "Function value obtained: -0.8834\n",
            "Current minimum: -0.9033\n",
            "Iteration No: 23 started. Searching for the next optimal point.\n",
            "[0.04363976518820225, 6, 1, 0.9475242363272092, 0.7123963889229926] \n",
            "\n",
            "Iteration No: 23 ended. Search finished for the next optimal point.\n",
            "Time taken: 0.5917\n",
            "Function value obtained: -0.8933\n",
            "Current minimum: -0.9033\n",
            "Iteration No: 24 started. Searching for the next optimal point.\n",
            "[0.001, 113, 100, 0.679466931689653, 0.26570736875308343] \n",
            "\n",
            "Iteration No: 24 ended. Search finished for the next optimal point.\n",
            "Time taken: 0.6533\n",
            "Function value obtained: -0.8636\n",
            "Current minimum: -0.9033\n",
            "Iteration No: 25 started. Searching for the next optimal point.\n",
            "[0.01194787975989593, 51, 33, 0.7995483739516925, 0.7886775179297032] \n",
            "\n",
            "Iteration No: 25 ended. Search finished for the next optimal point.\n",
            "Time taken: 0.6107\n",
            "Function value obtained: -0.8888\n",
            "Current minimum: -0.9033\n",
            "Iteration No: 26 started. Searching for the next optimal point.\n",
            "[0.001, 29, 100, 1.0, 0.1] \n",
            "\n",
            "Iteration No: 26 ended. Search finished for the next optimal point.\n",
            "Time taken: 0.6047\n",
            "Function value obtained: -0.8746\n",
            "Current minimum: -0.9033\n",
            "Iteration No: 27 started. Searching for the next optimal point.\n",
            "[0.08368552092249844, 68, 1, 0.9144763929634057, 0.3325670364463373] \n",
            "\n",
            "Iteration No: 27 ended. Search finished for the next optimal point.\n",
            "Time taken: 0.6563\n",
            "Function value obtained: -0.9043\n",
            "Current minimum: -0.9043\n",
            "Iteration No: 28 started. Searching for the next optimal point.\n",
            "[0.0036762332000175283, 9, 93, 0.435279109309282, 0.7788212692777323] \n",
            "\n",
            "Iteration No: 28 ended. Search finished for the next optimal point.\n",
            "Time taken: 0.6955\n",
            "Function value obtained: -0.8627\n",
            "Current minimum: -0.9043\n",
            "Iteration No: 29 started. Searching for the next optimal point.\n",
            "[0.00625928636327138, 110, 31, 0.5629956339350757, 0.14280955254469768] \n",
            "\n",
            "Iteration No: 29 ended. Search finished for the next optimal point.\n",
            "Time taken: 0.5717\n",
            "Function value obtained: -0.8750\n",
            "Current minimum: -0.9043\n",
            "Iteration No: 30 started. Searching for the next optimal point.\n",
            "[0.02382044376422696, 116, 96, 0.5210449108386199, 0.7717013987799125] \n",
            "\n",
            "Iteration No: 30 ended. Search finished for the next optimal point.\n",
            "Time taken: 0.9301\n",
            "Function value obtained: -0.8728\n",
            "Current minimum: -0.9043\n"
          ]
        }
      ]
    },
    {
      "cell_type": "code",
      "source": [
        "resultados_gp.x"
      ],
      "metadata": {
        "colab": {
          "base_uri": "https://localhost:8080/"
        },
        "id": "0RyRYM0BEJAJ",
        "outputId": "076c43e9-dd85-4036-c8a6-5ec12aebf3ed"
      },
      "execution_count": 39,
      "outputs": [
        {
          "output_type": "execute_result",
          "data": {
            "text/plain": [
              "[0.08368552092249844, 68, 1, 0.9144763929634057, 0.3325670364463373]"
            ]
          },
          "metadata": {},
          "execution_count": 39
        }
      ]
    },
    {
      "cell_type": "code",
      "source": [],
      "metadata": {
        "id": "u8beqheLIPwR"
      },
      "execution_count": null,
      "outputs": []
    },
    {
      "cell_type": "code",
      "source": [],
      "metadata": {
        "id": "NAEM_swIIPzV"
      },
      "execution_count": null,
      "outputs": []
    },
    {
      "cell_type": "code",
      "source": [],
      "metadata": {
        "id": "cdBsGdwYIP5G"
      },
      "execution_count": null,
      "outputs": []
    },
    {
      "cell_type": "code",
      "source": [],
      "metadata": {
        "id": "stxzxvvoIP79"
      },
      "execution_count": null,
      "outputs": []
    },
    {
      "cell_type": "code",
      "source": [],
      "metadata": {
        "id": "gnMr6_toIP-5"
      },
      "execution_count": null,
      "outputs": []
    }
  ]
}