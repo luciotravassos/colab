{
 "cells": [
  {
   "cell_type": "markdown",
   "id": "7ba30af7",
   "metadata": {},
   "source": [
    "<h1> Bibliotecas </h1>"
   ]
  },
  {
   "cell_type": "code",
   "execution_count": 1,
   "id": "004dfb0e",
   "metadata": {},
   "outputs": [],
   "source": [
    "import numpy as np\n",
    "import pandas as pd\n",
    "import warnings                     #    É uma bibliote para ignorar os warnings do ambiente\n",
    "import math\n",
    "# Ignorando warnings desncessários\n",
    "warnings.filterwarnings('ignore')\n",
    "from pymongo import MongoClient\n",
    "import pymongo\n",
    "#AWS functions and features\n",
    "import boto3\n",
    "import base64\n",
    "from botocore.exceptions import ClientError\n",
    "import json"
   ]
  },
  {
   "cell_type": "markdown",
   "id": "cb4f7e05",
   "metadata": {},
   "source": [
    "<h1> Mongo Database </h1>"
   ]
  },
  {
   "cell_type": "code",
   "execution_count": 2,
   "id": "e811c31b",
   "metadata": {},
   "outputs": [],
   "source": [
    "client = boto3.client('secretsmanager')\n",
    "response = client.get_secret_value(SecretId='Mongo')#coloco o nome do secret manager exatamente como foi escrito\n",
    "secretMongo = json.loads(response[\"SecretString\"])"
   ]
  },
  {
   "cell_type": "code",
   "execution_count": 3,
   "id": "7bf2ea54",
   "metadata": {},
   "outputs": [],
   "source": [
    "decode_responses=True\n",
    "mongolink = secretMongo[\"mongodb\"]\n",
    "client = pymongo.MongoClient(mongolink)\n",
    "db1 = client.store"
   ]
  },
  {
   "cell_type": "markdown",
   "id": "cb57cce0",
   "metadata": {},
   "source": [
    "<h3> Ajustando campos </h3>"
   ]
  },
  {
   "cell_type": "code",
   "execution_count": 4,
   "id": "70b3d021",
   "metadata": {},
   "outputs": [],
   "source": [
    "collection = db1[\"maquina\"]\n",
    "#collection = db1['winv']\n",
    "data = pd.DataFrame(list(collection.find()))\n",
    "data.drop(['_id'], axis=1, inplace=True)# removendo campos"
   ]
  },
  {
   "cell_type": "code",
   "execution_count": 5,
   "id": "18f5cf66",
   "metadata": {},
   "outputs": [],
   "source": [
    "#Comentei as linhas de drop pq ja foram realizadas."
   ]
  },
  {
   "cell_type": "code",
   "execution_count": 6,
   "id": "eadbcf8f",
   "metadata": {},
   "outputs": [],
   "source": [
    "data.drop(['Data'], axis=1, inplace=True)# removendo campos"
   ]
  },
  {
   "cell_type": "code",
   "execution_count": 7,
   "id": "67b5a99e",
   "metadata": {},
   "outputs": [],
   "source": [
    "data.drop(['Pontos'], axis=1, inplace=True)# removendo campos"
   ]
  },
  {
   "cell_type": "code",
   "execution_count": 8,
   "id": "fb58c459",
   "metadata": {},
   "outputs": [],
   "source": [
    "data.drop(['Confirma'], axis=1, inplace=True)# removendo campos"
   ]
  },
  {
   "cell_type": "code",
   "execution_count": 9,
   "id": "d0dd7ab6",
   "metadata": {},
   "outputs": [],
   "source": [
    "data.drop(['MM09'], axis=1, inplace=True)# removendo campos"
   ]
  },
  {
   "cell_type": "code",
   "execution_count": 10,
   "id": "846ffa85",
   "metadata": {},
   "outputs": [],
   "source": [
    "data.drop(['BearBull'], axis=1, inplace=True)# removendo campos"
   ]
  },
  {
   "cell_type": "code",
   "execution_count": 11,
   "id": "3b58b8a0",
   "metadata": {},
   "outputs": [],
   "source": [
    "data.drop(['Tick_volume'], axis=1, inplace=True)# removendo campos"
   ]
  },
  {
   "cell_type": "code",
   "execution_count": 12,
   "id": "db3bfa56",
   "metadata": {},
   "outputs": [],
   "source": [
    "data.drop(['Volume'], axis=1, inplace=True)# removendo campos"
   ]
  },
  {
   "cell_type": "code",
   "execution_count": 13,
   "id": "7d6b1d82",
   "metadata": {},
   "outputs": [],
   "source": [
    "data['target'] = data['Close'][1:len(data)].reset_index(drop=True)"
   ]
  },
  {
   "cell_type": "code",
   "execution_count": 18,
   "id": "903950eb",
   "metadata": {},
   "outputs": [
    {
     "data": {
      "text/html": [
       "<div>\n",
       "<style scoped>\n",
       "    .dataframe tbody tr th:only-of-type {\n",
       "        vertical-align: middle;\n",
       "    }\n",
       "\n",
       "    .dataframe tbody tr th {\n",
       "        vertical-align: top;\n",
       "    }\n",
       "\n",
       "    .dataframe thead th {\n",
       "        text-align: right;\n",
       "    }\n",
       "</style>\n",
       "<table border=\"1\" class=\"dataframe\">\n",
       "  <thead>\n",
       "    <tr style=\"text-align: right;\">\n",
       "      <th></th>\n",
       "      <th>Open</th>\n",
       "      <th>High</th>\n",
       "      <th>Low</th>\n",
       "      <th>Close</th>\n",
       "      <th>target</th>\n",
       "    </tr>\n",
       "  </thead>\n",
       "  <tbody>\n",
       "    <tr>\n",
       "      <th>110</th>\n",
       "      <td>111035</td>\n",
       "      <td>111040</td>\n",
       "      <td>110830</td>\n",
       "      <td>110850</td>\n",
       "      <td>0.0</td>\n",
       "    </tr>\n",
       "    <tr>\n",
       "      <th>111</th>\n",
       "      <td>110845</td>\n",
       "      <td>110870</td>\n",
       "      <td>110605</td>\n",
       "      <td>110625</td>\n",
       "      <td>1.0</td>\n",
       "    </tr>\n",
       "    <tr>\n",
       "      <th>112</th>\n",
       "      <td>110630</td>\n",
       "      <td>110740</td>\n",
       "      <td>110600</td>\n",
       "      <td>110700</td>\n",
       "      <td>0.0</td>\n",
       "    </tr>\n",
       "  </tbody>\n",
       "</table>\n",
       "</div>"
      ],
      "text/plain": [
       "       Open    High     Low   Close  target\n",
       "110  111035  111040  110830  110850     0.0\n",
       "111  110845  110870  110605  110625     1.0\n",
       "112  110630  110740  110600  110700     0.0"
      ]
     },
     "execution_count": 18,
     "metadata": {},
     "output_type": "execute_result"
    }
   ],
   "source": [
    "pd.options.display.max_rows = 120\n",
    "data.tail(3)"
   ]
  },
  {
   "cell_type": "code",
   "execution_count": 15,
   "id": "c5471690",
   "metadata": {},
   "outputs": [],
   "source": [
    "data.loc[data['target'] > data['Close'], 'target'] = 1 # Se 1 Close é maior do o target."
   ]
  },
  {
   "cell_type": "code",
   "execution_count": 16,
   "id": "9a48802e",
   "metadata": {},
   "outputs": [],
   "source": [
    "data.loc[data['target'] != 1, 'target'] = 0 # Se 0 Close é menor do o target."
   ]
  },
  {
   "cell_type": "code",
   "execution_count": 17,
   "id": "4ab94d4b",
   "metadata": {},
   "outputs": [
    {
     "data": {
      "text/html": [
       "<div>\n",
       "<style scoped>\n",
       "    .dataframe tbody tr th:only-of-type {\n",
       "        vertical-align: middle;\n",
       "    }\n",
       "\n",
       "    .dataframe tbody tr th {\n",
       "        vertical-align: top;\n",
       "    }\n",
       "\n",
       "    .dataframe thead th {\n",
       "        text-align: right;\n",
       "    }\n",
       "</style>\n",
       "<table border=\"1\" class=\"dataframe\">\n",
       "  <thead>\n",
       "    <tr style=\"text-align: right;\">\n",
       "      <th></th>\n",
       "      <th>Open</th>\n",
       "      <th>High</th>\n",
       "      <th>Low</th>\n",
       "      <th>Close</th>\n",
       "      <th>target</th>\n",
       "    </tr>\n",
       "  </thead>\n",
       "  <tbody>\n",
       "    <tr>\n",
       "      <th>111</th>\n",
       "      <td>110845</td>\n",
       "      <td>110870</td>\n",
       "      <td>110605</td>\n",
       "      <td>110625</td>\n",
       "      <td>1.0</td>\n",
       "    </tr>\n",
       "    <tr>\n",
       "      <th>112</th>\n",
       "      <td>110630</td>\n",
       "      <td>110740</td>\n",
       "      <td>110600</td>\n",
       "      <td>110700</td>\n",
       "      <td>0.0</td>\n",
       "    </tr>\n",
       "  </tbody>\n",
       "</table>\n",
       "</div>"
      ],
      "text/plain": [
       "       Open    High     Low   Close  target\n",
       "111  110845  110870  110605  110625     1.0\n",
       "112  110630  110740  110600  110700     0.0"
      ]
     },
     "execution_count": 17,
     "metadata": {},
     "output_type": "execute_result"
    }
   ],
   "source": [
    "data = data.drop(data[-1::].index, axis = 0) # a ultima linnha foi removida pois está ativa.\n",
    "data.tail(2) "
   ]
  },
  {
   "cell_type": "code",
   "execution_count": null,
   "id": "4fc68989",
   "metadata": {},
   "outputs": [],
   "source": [
    "#data.loc[data['MM09'] > data['Close'], 'MM09'] = 1"
   ]
  },
  {
   "cell_type": "code",
   "execution_count": null,
   "id": "0e0e0933",
   "metadata": {},
   "outputs": [],
   "source": [
    "#data.loc[data['MM09'] != 1, 'MM09'] = 0"
   ]
  },
  {
   "cell_type": "code",
   "execution_count": null,
   "id": "b9f27f1c",
   "metadata": {},
   "outputs": [],
   "source": [
    "#data.loc[data['Volume'] > 200000, 'Volume'] = 1"
   ]
  },
  {
   "cell_type": "code",
   "execution_count": null,
   "id": "c401e5ca",
   "metadata": {},
   "outputs": [],
   "source": [
    "#data.loc[data['Volume'] != 1, 'Volume'] = 0"
   ]
  },
  {
   "cell_type": "code",
   "execution_count": null,
   "id": "4dd13b41",
   "metadata": {},
   "outputs": [],
   "source": [
    "#data.loc[data['Tick_volume'] > 90000, 'Tick_volume'] = 1"
   ]
  },
  {
   "cell_type": "code",
   "execution_count": null,
   "id": "71a4f208",
   "metadata": {},
   "outputs": [],
   "source": [
    "#data.loc[data['Tick_volume'] != 1, 'Tick_volume'] = 0"
   ]
  },
  {
   "cell_type": "code",
   "execution_count": null,
   "id": "d6135344",
   "metadata": {},
   "outputs": [],
   "source": [
    "#from sklearn.preprocessing import LabelEncoder"
   ]
  },
  {
   "cell_type": "code",
   "execution_count": null,
   "id": "c6200d6f",
   "metadata": {},
   "outputs": [],
   "source": [
    "#data['BearBull'] = LabelEncoder().fit_transform(data['BearBull'])"
   ]
  },
  {
   "cell_type": "code",
   "execution_count": null,
   "id": "0f1714f5",
   "metadata": {},
   "outputs": [],
   "source": [
    "#data = data.drop(data[-1::].index, axis = 0) #usei essa linha para validar a rede"
   ]
  },
  {
   "cell_type": "code",
   "execution_count": 19,
   "id": "5c6fde12",
   "metadata": {},
   "outputs": [
    {
     "data": {
      "text/plain": [
       "(113, 5)"
      ]
     },
     "execution_count": 19,
     "metadata": {},
     "output_type": "execute_result"
    }
   ],
   "source": [
    "data.shape"
   ]
  },
  {
   "cell_type": "code",
   "execution_count": null,
   "id": "a48a1512",
   "metadata": {},
   "outputs": [],
   "source": [
    "#data[\"BearBull\"] = pd.to_numeric(data[\"BearBull\"])"
   ]
  },
  {
   "cell_type": "code",
   "execution_count": 20,
   "id": "066de2d8",
   "metadata": {},
   "outputs": [
    {
     "data": {
      "text/plain": [
       "Open        int64\n",
       "High        int64\n",
       "Low         int64\n",
       "Close       int64\n",
       "target    float64\n",
       "dtype: object"
      ]
     },
     "execution_count": 20,
     "metadata": {},
     "output_type": "execute_result"
    }
   ],
   "source": [
    "data.dtypes"
   ]
  },
  {
   "cell_type": "markdown",
   "id": "6919163e",
   "metadata": {},
   "source": [
    "**Rede NAIVE BAYES : Classificação**"
   ]
  },
  {
   "cell_type": "markdown",
   "id": "2269d848",
   "metadata": {},
   "source": [
    "**Alvos e Previsores**"
   ]
  },
  {
   "cell_type": "code",
   "execution_count": 21,
   "id": "0c938f7a",
   "metadata": {},
   "outputs": [],
   "source": [
    "previsores = data.iloc[:, 0:4].values"
   ]
  },
  {
   "cell_type": "code",
   "execution_count": 22,
   "id": "d367aa6e",
   "metadata": {},
   "outputs": [
    {
     "data": {
      "text/plain": [
       "array([[113655, 114120, 112990, 113430],\n",
       "       [113440, 113790, 113320, 113725],\n",
       "       [113730, 113785, 113255, 113670],\n",
       "       [113670, 113835, 113590, 113745],\n",
       "       [113745, 113825, 113425, 113650],\n",
       "       [113645, 113885, 113510, 113590],\n",
       "       [113595, 113835, 113540, 113815],\n",
       "       [113815, 113895, 113705, 113880],\n",
       "       [113880, 113955, 113740, 113880],\n",
       "       [113880, 113990, 113660, 113860],\n",
       "       [113860, 114085, 113815, 113965],\n",
       "       [113960, 114055, 113820, 114040],\n",
       "       [114045, 114250, 113700, 114120],\n",
       "       [114125, 114320, 113920, 114220],\n",
       "       [114215, 114245, 113715, 113935],\n",
       "       [113935, 113945, 113495, 113620],\n",
       "       [113615, 114035, 113610, 113920],\n",
       "       [113925, 114050, 113655, 113895],\n",
       "       [113895, 114050, 113500, 113690],\n",
       "       [113610, 113925, 113360, 113895],\n",
       "       [113890, 113960, 113665, 113715],\n",
       "       [113715, 113775, 113200, 113215],\n",
       "       [113220, 113370, 112855, 112870],\n",
       "       [112870, 113215, 112815, 113030],\n",
       "       [113025, 113205, 112895, 112950],\n",
       "       [112950, 113040, 112625, 112800],\n",
       "       [112800, 112930, 112595, 112770],\n",
       "       [112775, 112860, 112525, 112745],\n",
       "       [112745, 112985, 112730, 112890],\n",
       "       [112885, 112890, 112440, 112540],\n",
       "       [112545, 113120, 112505, 113120],\n",
       "       [113120, 113120, 112625, 112650],\n",
       "       [112645, 112755, 112470, 112595],\n",
       "       [112600, 112940, 112590, 112705],\n",
       "       [112710, 112810, 112220, 112415],\n",
       "       [112415, 112630, 112350, 112480],\n",
       "       [112480, 112590, 112210, 112430],\n",
       "       [112435, 112470, 112055, 112170],\n",
       "       [112170, 112420, 112130, 112140],\n",
       "       [112140, 112305, 111955, 112010],\n",
       "       [112010, 112230, 112005, 112180],\n",
       "       [112180, 112275, 112035, 112185],\n",
       "       [112190, 112325, 112045, 112075],\n",
       "       [112075, 112170, 111915, 112090],\n",
       "       [112090, 112105, 111690, 111815],\n",
       "       [111815, 111915, 111725, 111810],\n",
       "       [111805, 111875, 111535, 111555],\n",
       "       [111555, 111820, 111550, 111750],\n",
       "       [111745, 111850, 111635, 111730],\n",
       "       [111725, 111795, 111520, 111540],\n",
       "       [111540, 111680, 111450, 111575],\n",
       "       [111575, 111645, 111445, 111620],\n",
       "       [111615, 111680, 111480, 111640],\n",
       "       [111640, 111770, 111550, 111760],\n",
       "       [111760, 111770, 111450, 111540],\n",
       "       [111540, 111700, 111505, 111690],\n",
       "       [111690, 111820, 111645, 111810],\n",
       "       [111815, 111885, 111690, 111780],\n",
       "       [111780, 111815, 111570, 111590],\n",
       "       [111585, 111785, 111540, 111680],\n",
       "       [111680, 111770, 111515, 111550],\n",
       "       [111545, 111745, 111540, 111655],\n",
       "       [111660, 111685, 111335, 111380],\n",
       "       [111385, 111530, 111295, 111470],\n",
       "       [111465, 111610, 111290, 111540],\n",
       "       [111540, 111580, 111370, 111530],\n",
       "       [111530, 111750, 111480, 111655],\n",
       "       [111660, 111840, 111640, 111675],\n",
       "       [111680, 111735, 111560, 111690],\n",
       "       [111690, 111790, 111630, 111645],\n",
       "       [111645, 111755, 111570, 111665],\n",
       "       [111665, 111725, 111520, 111570],\n",
       "       [111575, 111585, 111085, 111275],\n",
       "       [111270, 111320, 111055, 111170],\n",
       "       [111165, 111250, 111025, 111085],\n",
       "       [111085, 111135, 110815, 110855],\n",
       "       [110855, 110945, 110760, 110875],\n",
       "       [110880, 110930, 110760, 110880],\n",
       "       [110880, 110985, 110605, 110665],\n",
       "       [110665, 110930, 110650, 110885],\n",
       "       [110885, 110955, 110575, 110630],\n",
       "       [110630, 110855, 110540, 110795],\n",
       "       [110795, 110800, 110575, 110700],\n",
       "       [110700, 110720, 110340, 110450],\n",
       "       [110445, 110755, 110445, 110730],\n",
       "       [110735, 110780, 110585, 110770],\n",
       "       [110775, 110780, 110625, 110695],\n",
       "       [110700, 110710, 110530, 110695],\n",
       "       [110695, 110965, 110650, 110960],\n",
       "       [110955, 110985, 110780, 110905],\n",
       "       [110910, 110910, 110715, 110795],\n",
       "       [110795, 111120, 110770, 111005],\n",
       "       [111010, 111110, 110965, 111095],\n",
       "       [111095, 111210, 111000, 111005],\n",
       "       [111000, 111230, 110745, 111115],\n",
       "       [111115, 111185, 111015, 111150],\n",
       "       [111150, 111310, 111095, 111190],\n",
       "       [111190, 111320, 110955, 111000],\n",
       "       [111005, 111020, 110745, 110820],\n",
       "       [110820, 110925, 110730, 110805],\n",
       "       [110805, 110875, 110655, 110700],\n",
       "       [110705, 110755, 110585, 110680],\n",
       "       [110680, 110865, 110665, 110800],\n",
       "       [110805, 110930, 110755, 110925],\n",
       "       [110925, 111215, 110895, 111105],\n",
       "       [111105, 111120, 110955, 110975],\n",
       "       [110970, 111100, 110965, 110985],\n",
       "       [110980, 111080, 110925, 111060],\n",
       "       [111055, 111095, 110980, 111015],\n",
       "       [111020, 111150, 111000, 111035],\n",
       "       [111035, 111040, 110830, 110850],\n",
       "       [110845, 110870, 110605, 110625],\n",
       "       [110630, 110740, 110600, 110700]], dtype=int64)"
      ]
     },
     "execution_count": 22,
     "metadata": {},
     "output_type": "execute_result"
    }
   ],
   "source": [
    "previsores"
   ]
  },
  {
   "cell_type": "code",
   "execution_count": 23,
   "id": "0276d68f",
   "metadata": {},
   "outputs": [
    {
     "data": {
      "text/plain": [
       "(113, 4)"
      ]
     },
     "execution_count": 23,
     "metadata": {},
     "output_type": "execute_result"
    }
   ],
   "source": [
    "previsores.shape"
   ]
  },
  {
   "cell_type": "code",
   "execution_count": 24,
   "id": "9bbf824d",
   "metadata": {},
   "outputs": [],
   "source": [
    "alvo = data.iloc[:,4].values"
   ]
  },
  {
   "cell_type": "code",
   "execution_count": 25,
   "id": "5e9cde9c",
   "metadata": {},
   "outputs": [
    {
     "data": {
      "text/plain": [
       "array([1., 0., 1., 0., 0., 1., 1., 0., 0., 1., 1., 1., 1., 0., 0., 1., 0.,\n",
       "       0., 1., 0., 0., 0., 1., 0., 0., 0., 0., 1., 0., 1., 0., 0., 1., 0.,\n",
       "       1., 0., 0., 0., 0., 1., 1., 0., 1., 0., 0., 0., 1., 0., 0., 1., 1.,\n",
       "       1., 1., 0., 1., 1., 0., 0., 1., 0., 1., 0., 1., 1., 0., 1., 1., 1.,\n",
       "       0., 1., 0., 0., 0., 0., 0., 1., 1., 0., 1., 0., 1., 0., 0., 1., 1.,\n",
       "       0., 0., 1., 0., 0., 1., 1., 0., 1., 1., 1., 0., 0., 0., 0., 0., 1.,\n",
       "       1., 1., 0., 1., 1., 0., 1., 0., 0., 1., 0.])"
      ]
     },
     "execution_count": 25,
     "metadata": {},
     "output_type": "execute_result"
    }
   ],
   "source": [
    "alvo"
   ]
  },
  {
   "cell_type": "code",
   "execution_count": 26,
   "id": "f70209f6",
   "metadata": {},
   "outputs": [
    {
     "data": {
      "text/plain": [
       "(113,)"
      ]
     },
     "execution_count": 26,
     "metadata": {},
     "output_type": "execute_result"
    }
   ],
   "source": [
    "alvo.shape"
   ]
  },
  {
   "cell_type": "markdown",
   "id": "9fdea665",
   "metadata": {},
   "source": [
    "<h2> TREINO </h2>"
   ]
  },
  {
   "cell_type": "code",
   "execution_count": 27,
   "id": "b4045114",
   "metadata": {},
   "outputs": [],
   "source": [
    "from sklearn.preprocessing import StandardScaler"
   ]
  },
  {
   "cell_type": "code",
   "execution_count": 28,
   "id": "e6fc3f34",
   "metadata": {},
   "outputs": [],
   "source": [
    "previsores_esc = StandardScaler().fit_transform(previsores)"
   ]
  },
  {
   "cell_type": "code",
   "execution_count": 29,
   "id": "6ec1cf01",
   "metadata": {},
   "outputs": [
    {
     "data": {
      "text/plain": [
       "array([[ 1.51202287,  1.77332458,  1.11352082,  1.3359658 ],\n",
       "       [ 1.31706681,  1.48112683,  1.42616014,  1.60439097],\n",
       "       [ 1.5800308 ,  1.47669959,  1.36457967,  1.5543456 ],\n",
       "       [ 1.52562446,  1.52097198,  1.68195595,  1.62258929],\n",
       "       [ 1.59363239,  1.5121175 ,  1.52563629,  1.53614728],\n",
       "       [ 1.50295515,  1.56524436,  1.6061646 ,  1.48155233],\n",
       "       [ 1.45761653,  1.52097198,  1.63458635,  1.6862834 ],\n",
       "       [ 1.65710645,  1.57409884,  1.79090601,  1.74542792],\n",
       "       [ 1.71604666,  1.6272257 ,  1.82406473,  1.74542792],\n",
       "       [ 1.71604666,  1.65821638,  1.74827338,  1.72722961],\n",
       "       [ 1.69791121,  1.74233391,  1.89511912,  1.82277077],\n",
       "       [ 1.78858845,  1.71577048,  1.89985608,  1.89101446],\n",
       "       [ 1.8656641 ,  1.88843279,  1.78616905,  1.96380772],\n",
       "       [ 1.93820589,  1.95041413,  1.99459527,  2.05479931],\n",
       "       [ 2.0198154 ,  1.88400555,  1.80037993,  1.79547329],\n",
       "       [ 1.76591914,  1.61837123,  1.59195372,  1.50884981],\n",
       "       [ 1.47575198,  1.69806152,  1.70090378,  1.78182456],\n",
       "       [ 1.75685141,  1.71134324,  1.74353642,  1.75907666],\n",
       "       [ 1.72964824,  1.71134324,  1.59669068,  1.57254392],\n",
       "       [ 1.47121812,  1.60066227,  1.46405581,  1.75907666],\n",
       "       [ 1.72511438,  1.63165294,  1.75301034,  1.59529181],\n",
       "       [ 1.56642922,  1.46784511,  1.31247311,  1.1403339 ],\n",
       "       [ 1.11757689,  1.10923878,  0.98562292,  0.82641294],\n",
       "       [ 0.80020656,  0.97199438,  0.94772724,  0.97199947],\n",
       "       [ 0.94075628,  0.9631399 ,  1.02351859,  0.8992062 ],\n",
       "       [ 0.87274835,  0.81704102,  0.76772278,  0.76271883],\n",
       "       [ 0.73673249,  0.71964177,  0.73930103,  0.73542135],\n",
       "       [ 0.71406318,  0.65766043,  0.67298359,  0.71267346],\n",
       "       [ 0.68686001,  0.7683414 ,  0.86719893,  0.84461125],\n",
       "       [ 0.81380815,  0.68422386,  0.59245529,  0.52614071],\n",
       "       [ 0.50550554,  0.88787684,  0.65403576,  1.05389189],\n",
       "       [ 1.02689965,  0.88787684,  0.76772278,  0.62623145],\n",
       "       [ 0.59618278,  0.56468842,  0.62087704,  0.57618608],\n",
       "       [ 0.55537802,  0.72849625,  0.73456407,  0.67627682],\n",
       "       [ 0.65512298,  0.61338804,  0.38402907,  0.41240123],\n",
       "       [ 0.38762513,  0.45400745,  0.50719002,  0.47154576],\n",
       "       [ 0.44656533,  0.41858954,  0.37455515,  0.42604997],\n",
       "       [ 0.40576058,  0.31233581,  0.22770941,  0.18947185],\n",
       "       [ 0.1654659 ,  0.26806343,  0.2987638 ,  0.16217438],\n",
       "       [ 0.13826273,  0.16623694,  0.13297022,  0.04388532],\n",
       "       [ 0.02038232,  0.09982836,  0.18033982,  0.19857101],\n",
       "       [ 0.17453362,  0.1396735 ,  0.20876157,  0.20312059],\n",
       "       [ 0.18360134,  0.18394589,  0.21823549,  0.10302985],\n",
       "       [ 0.07932252,  0.04670149,  0.09507455,  0.11667859],\n",
       "       [ 0.09292411, -0.01085261, -0.11808863, -0.13354827],\n",
       "       [-0.1564383 , -0.17908768, -0.08492991, -0.13809785],\n",
       "       [-0.16550602, -0.21450559, -0.26493437, -0.37012638],\n",
       "       [-0.39219911, -0.26320522, -0.25072349, -0.19269279],\n",
       "       [-0.21991236, -0.23664178, -0.17019518, -0.21089111],\n",
       "       [-0.23804781, -0.28534141, -0.27914524, -0.38377512],\n",
       "       [-0.4058007 , -0.3871679 , -0.34546268, -0.35192807],\n",
       "       [-0.37406367, -0.41815857, -0.35019964, -0.31098185],\n",
       "       [-0.33779277, -0.3871679 , -0.31704092, -0.29278354],\n",
       "       [-0.31512346, -0.3074776 , -0.25072349, -0.18359364],\n",
       "       [-0.20631078, -0.3074776 , -0.34546268, -0.38377512],\n",
       "       [-0.4058007 , -0.36945895, -0.29335612, -0.24728774],\n",
       "       [-0.26978484, -0.26320522, -0.16072126, -0.13809785],\n",
       "       [-0.1564383 , -0.20565111, -0.11808863, -0.16539532],\n",
       "       [-0.18817533, -0.26763246, -0.23177565, -0.33827933],\n",
       "       [-0.36499594, -0.29419589, -0.26019741, -0.2563869 ],\n",
       "       [-0.27885257, -0.3074776 , -0.2838822 , -0.37467596],\n",
       "       [-0.40126684, -0.3296138 , -0.26019741, -0.2791348 ],\n",
       "       [-0.29698801, -0.38274066, -0.45441274, -0.52936165],\n",
       "       [-0.54635042, -0.51998506, -0.49230842, -0.44746923],\n",
       "       [-0.47380863, -0.44914924, -0.49704538, -0.38377512],\n",
       "       [-0.4058007 , -0.47571267, -0.42125403, -0.39287428],\n",
       "       [-0.41486842, -0.32518656, -0.31704092, -0.2791348 ],\n",
       "       [-0.29698801, -0.24549626, -0.16545822, -0.26093648],\n",
       "       [-0.27885257, -0.33846827, -0.24124957, -0.24728774],\n",
       "       [-0.26978484, -0.28976865, -0.17493214, -0.28823396],\n",
       "       [-0.3105896 , -0.32075932, -0.23177565, -0.27003564],\n",
       "       [-0.29245415, -0.34732275, -0.27914524, -0.35647764],\n",
       "       [-0.37406367, -0.47128544, -0.69126071, -0.62490281],\n",
       "       [-0.65062924, -0.70592909, -0.71968247, -0.72044398],\n",
       "       [-0.74584034, -0.76791043, -0.74810423, -0.79778682],\n",
       "       [-0.81838213, -0.86973692, -0.94705652, -1.00706746],\n",
       "       [-1.02693978, -1.03797199, -0.99916307, -0.98886915],\n",
       "       [-1.00427047, -1.0512537 , -0.99916307, -0.98431957],\n",
       "       [-1.00427047, -1.00255408, -1.14600882, -1.17995147],\n",
       "       [-1.19922653, -1.0512537 , -1.10337618, -0.97976999],\n",
       "       [-0.9997366 , -1.02911751, -1.17443057, -1.21179853],\n",
       "       [-1.23096356, -1.11766228, -1.20758929, -1.06166241],\n",
       "       [-1.08134612, -1.16636191, -1.17443057, -1.14810442],\n",
       "       [-1.16748949, -1.23719773, -1.39706766, -1.37558337],\n",
       "       [-1.39871645, -1.20620706, -1.29759152, -1.12080694],\n",
       "       [-1.13575246, -1.18407087, -1.16495665, -1.08441031],\n",
       "       [-1.09948157, -1.18407087, -1.12706098, -1.152654  ],\n",
       "       [-1.16748949, -1.24605221, -1.21706321, -1.152654  ],\n",
       "       [-1.17202336, -1.02026303, -1.10337618, -0.9115263 ],\n",
       "       [-0.93626254, -1.00255408, -0.98021524, -0.96157167],\n",
       "       [-0.9770673 , -1.06896266, -1.04179571, -1.06166241],\n",
       "       [-1.08134612, -0.88301863, -0.98968915, -0.87058009],\n",
       "       [-0.88639006, -0.89187311, -0.80494774, -0.78868766],\n",
       "       [-0.80931441, -0.80332834, -0.77178902, -0.87058009],\n",
       "       [-0.89545778, -0.78561938, -1.01337395, -0.77048935],\n",
       "       [-0.79117896, -0.82546453, -0.75757814, -0.73864229],\n",
       "       [-0.75944193, -0.71478356, -0.68178679, -0.70224566],\n",
       "       [-0.72317103, -0.70592909, -0.81442166, -0.87512967],\n",
       "       [-0.89092392, -0.97156341, -1.01337395, -1.03891452],\n",
       "       [-1.05867681, -1.05568094, -1.02758483, -1.05256325],\n",
       "       [-1.07227839, -1.09995333, -1.09863922, -1.14810442],\n",
       "       [-1.16295563, -1.20620706, -1.16495665, -1.16630273],\n",
       "       [-1.18562494, -1.10880781, -1.0891653 , -1.05711283],\n",
       "       [-1.07227839, -1.0512537 , -1.00390003, -0.94337336],\n",
       "       [-0.96346571, -0.7989011 , -0.87126517, -0.77958851],\n",
       "       [-0.80024668, -0.88301863, -0.81442166, -0.89787756],\n",
       "       [-0.92266095, -0.90072759, -0.80494774, -0.88877841],\n",
       "       [-0.91359323, -0.91843654, -0.84284341, -0.82053472],\n",
       "       [-0.8455853 , -0.90515483, -0.79073686, -0.86148093],\n",
       "       [-0.87732233, -0.8564552 , -0.77178902, -0.84328261],\n",
       "       [-0.86372075, -0.95385445, -0.93284564, -1.01161704],\n",
       "       [-1.0360075 , -1.10438057, -1.14600882, -1.2163481 ],\n",
       "       [-1.23096356, -1.21948877, -1.15074577, -1.14810442]])"
      ]
     },
     "execution_count": 29,
     "metadata": {},
     "output_type": "execute_result"
    }
   ],
   "source": [
    "previsores_esc"
   ]
  },
  {
   "cell_type": "code",
   "execution_count": 30,
   "id": "05ca7594",
   "metadata": {},
   "outputs": [],
   "source": [
    "previsoresdf = pd.DataFrame(previsores_esc)"
   ]
  },
  {
   "cell_type": "code",
   "execution_count": null,
   "id": "62344890",
   "metadata": {},
   "outputs": [],
   "source": [
    "previsoresdf"
   ]
  },
  {
   "cell_type": "markdown",
   "id": "03f3faa0",
   "metadata": {},
   "source": [
    "**Base Treino e Teste**"
   ]
  },
  {
   "cell_type": "code",
   "execution_count": 58,
   "id": "f85ea898",
   "metadata": {},
   "outputs": [],
   "source": [
    "from sklearn.model_selection import train_test_split"
   ]
  },
  {
   "cell_type": "code",
   "execution_count": 59,
   "id": "645625fb",
   "metadata": {},
   "outputs": [],
   "source": [
    "x_treino, x_teste, y_treino, y_teste = train_test_split(previsores_esc, alvo, test_size = 0.3, random_state = 0)"
   ]
  },
  {
   "cell_type": "code",
   "execution_count": 60,
   "id": "0bd511be",
   "metadata": {},
   "outputs": [
    {
     "data": {
      "text/plain": [
       "(79, 4)"
      ]
     },
     "execution_count": 60,
     "metadata": {},
     "output_type": "execute_result"
    }
   ],
   "source": [
    "x_treino.shape"
   ]
  },
  {
   "cell_type": "code",
   "execution_count": 61,
   "id": "5986b4eb",
   "metadata": {},
   "outputs": [
    {
     "data": {
      "text/plain": [
       "(34, 4)"
      ]
     },
     "execution_count": 61,
     "metadata": {},
     "output_type": "execute_result"
    }
   ],
   "source": [
    "x_teste.shape"
   ]
  },
  {
   "cell_type": "code",
   "execution_count": 62,
   "id": "5ba260b8",
   "metadata": {},
   "outputs": [
    {
     "data": {
      "text/plain": [
       "(79,)"
      ]
     },
     "execution_count": 62,
     "metadata": {},
     "output_type": "execute_result"
    }
   ],
   "source": [
    "y_treino.shape"
   ]
  },
  {
   "cell_type": "code",
   "execution_count": 63,
   "id": "cdd43a21",
   "metadata": {},
   "outputs": [
    {
     "data": {
      "text/plain": [
       "(34,)"
      ]
     },
     "execution_count": 63,
     "metadata": {},
     "output_type": "execute_result"
    }
   ],
   "source": [
    "y_teste.shape"
   ]
  },
  {
   "cell_type": "markdown",
   "id": "9d06d267",
   "metadata": {},
   "source": [
    "<h2> Criação do Algoritimo</h2>"
   ]
  },
  {
   "cell_type": "code",
   "execution_count": 64,
   "id": "93d46cf2",
   "metadata": {},
   "outputs": [],
   "source": [
    "from sklearn.naive_bayes import GaussianNB"
   ]
  },
  {
   "cell_type": "code",
   "execution_count": 65,
   "id": "fba32f84",
   "metadata": {},
   "outputs": [],
   "source": [
    "naive = GaussianNB()"
   ]
  },
  {
   "cell_type": "code",
   "execution_count": 66,
   "id": "a035a3e2",
   "metadata": {},
   "outputs": [
    {
     "data": {
      "text/html": [
       "<style>#sk-container-id-2 {color: black;background-color: white;}#sk-container-id-2 pre{padding: 0;}#sk-container-id-2 div.sk-toggleable {background-color: white;}#sk-container-id-2 label.sk-toggleable__label {cursor: pointer;display: block;width: 100%;margin-bottom: 0;padding: 0.3em;box-sizing: border-box;text-align: center;}#sk-container-id-2 label.sk-toggleable__label-arrow:before {content: \"▸\";float: left;margin-right: 0.25em;color: #696969;}#sk-container-id-2 label.sk-toggleable__label-arrow:hover:before {color: black;}#sk-container-id-2 div.sk-estimator:hover label.sk-toggleable__label-arrow:before {color: black;}#sk-container-id-2 div.sk-toggleable__content {max-height: 0;max-width: 0;overflow: hidden;text-align: left;background-color: #f0f8ff;}#sk-container-id-2 div.sk-toggleable__content pre {margin: 0.2em;color: black;border-radius: 0.25em;background-color: #f0f8ff;}#sk-container-id-2 input.sk-toggleable__control:checked~div.sk-toggleable__content {max-height: 200px;max-width: 100%;overflow: auto;}#sk-container-id-2 input.sk-toggleable__control:checked~label.sk-toggleable__label-arrow:before {content: \"▾\";}#sk-container-id-2 div.sk-estimator input.sk-toggleable__control:checked~label.sk-toggleable__label {background-color: #d4ebff;}#sk-container-id-2 div.sk-label input.sk-toggleable__control:checked~label.sk-toggleable__label {background-color: #d4ebff;}#sk-container-id-2 input.sk-hidden--visually {border: 0;clip: rect(1px 1px 1px 1px);clip: rect(1px, 1px, 1px, 1px);height: 1px;margin: -1px;overflow: hidden;padding: 0;position: absolute;width: 1px;}#sk-container-id-2 div.sk-estimator {font-family: monospace;background-color: #f0f8ff;border: 1px dotted black;border-radius: 0.25em;box-sizing: border-box;margin-bottom: 0.5em;}#sk-container-id-2 div.sk-estimator:hover {background-color: #d4ebff;}#sk-container-id-2 div.sk-parallel-item::after {content: \"\";width: 100%;border-bottom: 1px solid gray;flex-grow: 1;}#sk-container-id-2 div.sk-label:hover label.sk-toggleable__label {background-color: #d4ebff;}#sk-container-id-2 div.sk-serial::before {content: \"\";position: absolute;border-left: 1px solid gray;box-sizing: border-box;top: 0;bottom: 0;left: 50%;z-index: 0;}#sk-container-id-2 div.sk-serial {display: flex;flex-direction: column;align-items: center;background-color: white;padding-right: 0.2em;padding-left: 0.2em;position: relative;}#sk-container-id-2 div.sk-item {position: relative;z-index: 1;}#sk-container-id-2 div.sk-parallel {display: flex;align-items: stretch;justify-content: center;background-color: white;position: relative;}#sk-container-id-2 div.sk-item::before, #sk-container-id-2 div.sk-parallel-item::before {content: \"\";position: absolute;border-left: 1px solid gray;box-sizing: border-box;top: 0;bottom: 0;left: 50%;z-index: -1;}#sk-container-id-2 div.sk-parallel-item {display: flex;flex-direction: column;z-index: 1;position: relative;background-color: white;}#sk-container-id-2 div.sk-parallel-item:first-child::after {align-self: flex-end;width: 50%;}#sk-container-id-2 div.sk-parallel-item:last-child::after {align-self: flex-start;width: 50%;}#sk-container-id-2 div.sk-parallel-item:only-child::after {width: 0;}#sk-container-id-2 div.sk-dashed-wrapped {border: 1px dashed gray;margin: 0 0.4em 0.5em 0.4em;box-sizing: border-box;padding-bottom: 0.4em;background-color: white;}#sk-container-id-2 div.sk-label label {font-family: monospace;font-weight: bold;display: inline-block;line-height: 1.2em;}#sk-container-id-2 div.sk-label-container {text-align: center;}#sk-container-id-2 div.sk-container {/* jupyter's `normalize.less` sets `[hidden] { display: none; }` but bootstrap.min.css set `[hidden] { display: none !important; }` so we also need the `!important` here to be able to override the default hidden behavior on the sphinx rendered scikit-learn.org. See: https://github.com/scikit-learn/scikit-learn/issues/21755 */display: inline-block !important;position: relative;}#sk-container-id-2 div.sk-text-repr-fallback {display: none;}</style><div id=\"sk-container-id-2\" class=\"sk-top-container\"><div class=\"sk-text-repr-fallback\"><pre>GaussianNB()</pre><b>In a Jupyter environment, please rerun this cell to show the HTML representation or trust the notebook. <br />On GitHub, the HTML representation is unable to render, please try loading this page with nbviewer.org.</b></div><div class=\"sk-container\" hidden><div class=\"sk-item\"><div class=\"sk-estimator sk-toggleable\"><input class=\"sk-toggleable__control sk-hidden--visually\" id=\"sk-estimator-id-2\" type=\"checkbox\" checked><label for=\"sk-estimator-id-2\" class=\"sk-toggleable__label sk-toggleable__label-arrow\">GaussianNB</label><div class=\"sk-toggleable__content\"><pre>GaussianNB()</pre></div></div></div></div></div>"
      ],
      "text/plain": [
       "GaussianNB()"
      ]
     },
     "execution_count": 66,
     "metadata": {},
     "output_type": "execute_result"
    }
   ],
   "source": [
    "naive.fit(x_treino, y_treino)"
   ]
  },
  {
   "cell_type": "code",
   "execution_count": 67,
   "id": "f21bc4e3",
   "metadata": {},
   "outputs": [],
   "source": [
    "previsoes = naive.predict(x_teste)"
   ]
  },
  {
   "cell_type": "code",
   "execution_count": 68,
   "id": "f3d609bb",
   "metadata": {},
   "outputs": [
    {
     "data": {
      "text/plain": [
       "array([0., 1., 1., 1., 0., 0., 0., 0., 1., 1., 0., 0., 0., 0., 0., 0., 0.,\n",
       "       1., 1., 1., 0., 0., 1., 0., 1., 0., 0., 0., 1., 0., 0., 1., 1., 0.])"
      ]
     },
     "execution_count": 68,
     "metadata": {},
     "output_type": "execute_result"
    }
   ],
   "source": [
    "previsoes"
   ]
  },
  {
   "cell_type": "code",
   "execution_count": 69,
   "id": "facdf3f6",
   "metadata": {},
   "outputs": [
    {
     "data": {
      "text/plain": [
       "array([1., 1., 0., 0., 1., 0., 1., 1., 0., 1., 1., 0., 1., 1., 0., 0., 0.,\n",
       "       0., 0., 1., 1., 0., 0., 0., 0., 1., 0., 1., 0., 1., 0., 0., 1., 1.])"
      ]
     },
     "execution_count": 69,
     "metadata": {},
     "output_type": "execute_result"
    }
   ],
   "source": [
    "y_teste"
   ]
  },
  {
   "cell_type": "code",
   "execution_count": 70,
   "id": "398148e6",
   "metadata": {},
   "outputs": [],
   "source": [
    "from sklearn.metrics import accuracy_score, confusion_matrix, classification_report"
   ]
  },
  {
   "cell_type": "code",
   "execution_count": 71,
   "id": "8c2465a7",
   "metadata": {},
   "outputs": [
    {
     "name": "stdout",
     "output_type": "stream",
     "text": [
      "Acurácia: 38.24%\n"
     ]
    }
   ],
   "source": [
    "print('Acurácia: %.2f%%' % (accuracy_score(y_teste, previsoes)*100))"
   ]
  },
  {
   "cell_type": "code",
   "execution_count": 72,
   "id": "bd9e675b",
   "metadata": {},
   "outputs": [
    {
     "data": {
      "text/plain": [
       "array([[ 9,  9],\n",
       "       [12,  4]], dtype=int64)"
      ]
     },
     "execution_count": 72,
     "metadata": {},
     "output_type": "execute_result"
    }
   ],
   "source": [
    "confusion_matrix(y_teste, previsoes)"
   ]
  },
  {
   "cell_type": "code",
   "execution_count": 73,
   "id": "5533b8fa",
   "metadata": {},
   "outputs": [
    {
     "name": "stdout",
     "output_type": "stream",
     "text": [
      "              precision    recall  f1-score   support\n",
      "\n",
      "         0.0       0.43      0.50      0.46        18\n",
      "         1.0       0.31      0.25      0.28        16\n",
      "\n",
      "    accuracy                           0.38        34\n",
      "   macro avg       0.37      0.38      0.37        34\n",
      "weighted avg       0.37      0.38      0.37        34\n",
      "\n"
     ]
    }
   ],
   "source": [
    "print(classification_report(y_teste, previsoes))"
   ]
  },
  {
   "cell_type": "markdown",
   "id": "b77e429a",
   "metadata": {},
   "source": [
    "**Analise de dados de treino**"
   ]
  },
  {
   "cell_type": "code",
   "execution_count": 74,
   "id": "cd839a82",
   "metadata": {},
   "outputs": [],
   "source": [
    "previsoes_treino = naive.predict(x_treino)"
   ]
  },
  {
   "cell_type": "code",
   "execution_count": 75,
   "id": "caf6ff0a",
   "metadata": {},
   "outputs": [
    {
     "data": {
      "text/plain": [
       "array([0., 0., 0., 0., 0., 0., 1., 1., 1., 0., 0., 0., 0., 0., 1., 0., 0.,\n",
       "       0., 1., 1., 1., 0., 0., 0., 1., 0., 0., 0., 1., 0., 1., 0., 0., 1.,\n",
       "       1., 0., 0., 0., 0., 0., 0., 1., 0., 1., 1., 0., 0., 0., 0., 0., 0.,\n",
       "       1., 0., 0., 0., 1., 0., 0., 0., 0., 0., 0., 0., 0., 1., 0., 0., 0.,\n",
       "       0., 0., 1., 0., 1., 0., 0., 0., 0., 0., 0.])"
      ]
     },
     "execution_count": 75,
     "metadata": {},
     "output_type": "execute_result"
    }
   ],
   "source": [
    "previsoes_treino"
   ]
  },
  {
   "cell_type": "code",
   "execution_count": 76,
   "id": "af6d4bba",
   "metadata": {},
   "outputs": [
    {
     "data": {
      "text/plain": [
       "0.5189873417721519"
      ]
     },
     "execution_count": 76,
     "metadata": {},
     "output_type": "execute_result"
    }
   ],
   "source": [
    "accuracy_score(y_treino, previsoes_treino)"
   ]
  },
  {
   "cell_type": "code",
   "execution_count": 77,
   "id": "18c17611",
   "metadata": {},
   "outputs": [
    {
     "data": {
      "text/plain": [
       "array([[32, 11],\n",
       "       [27,  9]], dtype=int64)"
      ]
     },
     "execution_count": 77,
     "metadata": {},
     "output_type": "execute_result"
    }
   ],
   "source": [
    "confusion_matrix(y_treino, previsoes_treino)"
   ]
  },
  {
   "cell_type": "markdown",
   "id": "b86c415b",
   "metadata": {},
   "source": [
    "**Validação Cruzada**"
   ]
  },
  {
   "cell_type": "code",
   "execution_count": 78,
   "id": "0571a16a",
   "metadata": {},
   "outputs": [],
   "source": [
    "from sklearn.model_selection import KFold\n",
    "from sklearn.model_selection import cross_val_score"
   ]
  },
  {
   "cell_type": "code",
   "execution_count": 79,
   "id": "5c713176",
   "metadata": {},
   "outputs": [],
   "source": [
    "kfold = KFold(n_splits = 30, shuffle=True, random_state = 5)"
   ]
  },
  {
   "cell_type": "code",
   "execution_count": 80,
   "id": "c5e971e0",
   "metadata": {},
   "outputs": [],
   "source": [
    "cruzada = GaussianNB()"
   ]
  },
  {
   "cell_type": "code",
   "execution_count": 81,
   "id": "7f7f9b0f",
   "metadata": {},
   "outputs": [],
   "source": [
    "resultado = cross_val_score(cruzada, previsores_esc, alvo, cv = kfold)"
   ]
  },
  {
   "cell_type": "code",
   "execution_count": 82,
   "id": "33b07fa2",
   "metadata": {},
   "outputs": [
    {
     "name": "stdout",
     "output_type": "stream",
     "text": [
      "Acurácia Média: 49.17%\n"
     ]
    }
   ],
   "source": [
    "print(\"Acurácia Média: %.2f%%\" % (resultado.mean() * 100))"
   ]
  },
  {
   "cell_type": "markdown",
   "id": "9ec039bc",
   "metadata": {},
   "source": [
    "<h1>Criando Modelo</h1>"
   ]
  },
  {
   "cell_type": "code",
   "execution_count": 83,
   "id": "a8b07e07",
   "metadata": {},
   "outputs": [],
   "source": [
    "from sklearn.naive_bayes import GaussianNB"
   ]
  },
  {
   "cell_type": "code",
   "execution_count": 84,
   "id": "9ca77b24",
   "metadata": {},
   "outputs": [],
   "source": [
    "modelo = GaussianNB()"
   ]
  },
  {
   "cell_type": "code",
   "execution_count": 85,
   "id": "7abadc3d",
   "metadata": {},
   "outputs": [
    {
     "data": {
      "text/html": [
       "<style>#sk-container-id-3 {color: black;background-color: white;}#sk-container-id-3 pre{padding: 0;}#sk-container-id-3 div.sk-toggleable {background-color: white;}#sk-container-id-3 label.sk-toggleable__label {cursor: pointer;display: block;width: 100%;margin-bottom: 0;padding: 0.3em;box-sizing: border-box;text-align: center;}#sk-container-id-3 label.sk-toggleable__label-arrow:before {content: \"▸\";float: left;margin-right: 0.25em;color: #696969;}#sk-container-id-3 label.sk-toggleable__label-arrow:hover:before {color: black;}#sk-container-id-3 div.sk-estimator:hover label.sk-toggleable__label-arrow:before {color: black;}#sk-container-id-3 div.sk-toggleable__content {max-height: 0;max-width: 0;overflow: hidden;text-align: left;background-color: #f0f8ff;}#sk-container-id-3 div.sk-toggleable__content pre {margin: 0.2em;color: black;border-radius: 0.25em;background-color: #f0f8ff;}#sk-container-id-3 input.sk-toggleable__control:checked~div.sk-toggleable__content {max-height: 200px;max-width: 100%;overflow: auto;}#sk-container-id-3 input.sk-toggleable__control:checked~label.sk-toggleable__label-arrow:before {content: \"▾\";}#sk-container-id-3 div.sk-estimator input.sk-toggleable__control:checked~label.sk-toggleable__label {background-color: #d4ebff;}#sk-container-id-3 div.sk-label input.sk-toggleable__control:checked~label.sk-toggleable__label {background-color: #d4ebff;}#sk-container-id-3 input.sk-hidden--visually {border: 0;clip: rect(1px 1px 1px 1px);clip: rect(1px, 1px, 1px, 1px);height: 1px;margin: -1px;overflow: hidden;padding: 0;position: absolute;width: 1px;}#sk-container-id-3 div.sk-estimator {font-family: monospace;background-color: #f0f8ff;border: 1px dotted black;border-radius: 0.25em;box-sizing: border-box;margin-bottom: 0.5em;}#sk-container-id-3 div.sk-estimator:hover {background-color: #d4ebff;}#sk-container-id-3 div.sk-parallel-item::after {content: \"\";width: 100%;border-bottom: 1px solid gray;flex-grow: 1;}#sk-container-id-3 div.sk-label:hover label.sk-toggleable__label {background-color: #d4ebff;}#sk-container-id-3 div.sk-serial::before {content: \"\";position: absolute;border-left: 1px solid gray;box-sizing: border-box;top: 0;bottom: 0;left: 50%;z-index: 0;}#sk-container-id-3 div.sk-serial {display: flex;flex-direction: column;align-items: center;background-color: white;padding-right: 0.2em;padding-left: 0.2em;position: relative;}#sk-container-id-3 div.sk-item {position: relative;z-index: 1;}#sk-container-id-3 div.sk-parallel {display: flex;align-items: stretch;justify-content: center;background-color: white;position: relative;}#sk-container-id-3 div.sk-item::before, #sk-container-id-3 div.sk-parallel-item::before {content: \"\";position: absolute;border-left: 1px solid gray;box-sizing: border-box;top: 0;bottom: 0;left: 50%;z-index: -1;}#sk-container-id-3 div.sk-parallel-item {display: flex;flex-direction: column;z-index: 1;position: relative;background-color: white;}#sk-container-id-3 div.sk-parallel-item:first-child::after {align-self: flex-end;width: 50%;}#sk-container-id-3 div.sk-parallel-item:last-child::after {align-self: flex-start;width: 50%;}#sk-container-id-3 div.sk-parallel-item:only-child::after {width: 0;}#sk-container-id-3 div.sk-dashed-wrapped {border: 1px dashed gray;margin: 0 0.4em 0.5em 0.4em;box-sizing: border-box;padding-bottom: 0.4em;background-color: white;}#sk-container-id-3 div.sk-label label {font-family: monospace;font-weight: bold;display: inline-block;line-height: 1.2em;}#sk-container-id-3 div.sk-label-container {text-align: center;}#sk-container-id-3 div.sk-container {/* jupyter's `normalize.less` sets `[hidden] { display: none; }` but bootstrap.min.css set `[hidden] { display: none !important; }` so we also need the `!important` here to be able to override the default hidden behavior on the sphinx rendered scikit-learn.org. See: https://github.com/scikit-learn/scikit-learn/issues/21755 */display: inline-block !important;position: relative;}#sk-container-id-3 div.sk-text-repr-fallback {display: none;}</style><div id=\"sk-container-id-3\" class=\"sk-top-container\"><div class=\"sk-text-repr-fallback\"><pre>GaussianNB()</pre><b>In a Jupyter environment, please rerun this cell to show the HTML representation or trust the notebook. <br />On GitHub, the HTML representation is unable to render, please try loading this page with nbviewer.org.</b></div><div class=\"sk-container\" hidden><div class=\"sk-item\"><div class=\"sk-estimator sk-toggleable\"><input class=\"sk-toggleable__control sk-hidden--visually\" id=\"sk-estimator-id-3\" type=\"checkbox\" checked><label for=\"sk-estimator-id-3\" class=\"sk-toggleable__label sk-toggleable__label-arrow\">GaussianNB</label><div class=\"sk-toggleable__content\"><pre>GaussianNB()</pre></div></div></div></div></div>"
      ],
      "text/plain": [
       "GaussianNB()"
      ]
     },
     "execution_count": 85,
     "metadata": {},
     "output_type": "execute_result"
    }
   ],
   "source": [
    "modelo.fit(previsores, alvo)"
   ]
  },
  {
   "cell_type": "code",
   "execution_count": null,
   "id": "5fee11b7",
   "metadata": {},
   "outputs": [],
   "source": [
    "#data[-2::] #Aqui fui para as duas ultimas linhas do dataframe já com as alterações"
   ]
  },
  {
   "cell_type": "code",
   "execution_count": 86,
   "id": "3d5d8e8f",
   "metadata": {},
   "outputs": [
    {
     "data": {
      "text/plain": [
       "array([[110845, 110870, 110605, 110625]], dtype=int64)"
      ]
     },
     "execution_count": 86,
     "metadata": {},
     "output_type": "execute_result"
    }
   ],
   "source": [
    "dependente_new = data.iloc[-2:-1, 0:4].values\n",
    "dependente_new = dependente_new.reshape( 1, -1)\n",
    "dependente_new"
   ]
  },
  {
   "cell_type": "code",
   "execution_count": 87,
   "id": "96c19bb7",
   "metadata": {},
   "outputs": [
    {
     "name": "stdout",
     "output_type": "stream",
     "text": [
      "[1.]\n"
     ]
    }
   ],
   "source": [
    "print(modelo.predict(dependente_new))"
   ]
  },
  {
   "cell_type": "code",
   "execution_count": 88,
   "id": "26046ada",
   "metadata": {},
   "outputs": [
    {
     "name": "stdout",
     "output_type": "stream",
     "text": [
      "Acurácia: 38.24%\n"
     ]
    }
   ],
   "source": [
    "print('Acurácia: %.2f%%' % (accuracy_score(y_teste, previsoes)*100))"
   ]
  },
  {
   "cell_type": "code",
   "execution_count": 89,
   "id": "3fe67783",
   "metadata": {},
   "outputs": [
    {
     "data": {
      "text/html": [
       "<div>\n",
       "<style scoped>\n",
       "    .dataframe tbody tr th:only-of-type {\n",
       "        vertical-align: middle;\n",
       "    }\n",
       "\n",
       "    .dataframe tbody tr th {\n",
       "        vertical-align: top;\n",
       "    }\n",
       "\n",
       "    .dataframe thead th {\n",
       "        text-align: right;\n",
       "    }\n",
       "</style>\n",
       "<table border=\"1\" class=\"dataframe\">\n",
       "  <thead>\n",
       "    <tr style=\"text-align: right;\">\n",
       "      <th></th>\n",
       "      <th>Open</th>\n",
       "      <th>High</th>\n",
       "      <th>Low</th>\n",
       "      <th>Close</th>\n",
       "      <th>target</th>\n",
       "    </tr>\n",
       "  </thead>\n",
       "  <tbody>\n",
       "    <tr>\n",
       "      <th>108</th>\n",
       "      <td>111055</td>\n",
       "      <td>111095</td>\n",
       "      <td>110980</td>\n",
       "      <td>111015</td>\n",
       "      <td>1.0</td>\n",
       "    </tr>\n",
       "    <tr>\n",
       "      <th>109</th>\n",
       "      <td>111020</td>\n",
       "      <td>111150</td>\n",
       "      <td>111000</td>\n",
       "      <td>111035</td>\n",
       "      <td>0.0</td>\n",
       "    </tr>\n",
       "    <tr>\n",
       "      <th>110</th>\n",
       "      <td>111035</td>\n",
       "      <td>111040</td>\n",
       "      <td>110830</td>\n",
       "      <td>110850</td>\n",
       "      <td>0.0</td>\n",
       "    </tr>\n",
       "    <tr>\n",
       "      <th>111</th>\n",
       "      <td>110845</td>\n",
       "      <td>110870</td>\n",
       "      <td>110605</td>\n",
       "      <td>110625</td>\n",
       "      <td>1.0</td>\n",
       "    </tr>\n",
       "    <tr>\n",
       "      <th>112</th>\n",
       "      <td>110630</td>\n",
       "      <td>110740</td>\n",
       "      <td>110600</td>\n",
       "      <td>110700</td>\n",
       "      <td>0.0</td>\n",
       "    </tr>\n",
       "  </tbody>\n",
       "</table>\n",
       "</div>"
      ],
      "text/plain": [
       "       Open    High     Low   Close  target\n",
       "108  111055  111095  110980  111015     1.0\n",
       "109  111020  111150  111000  111035     0.0\n",
       "110  111035  111040  110830  110850     0.0\n",
       "111  110845  110870  110605  110625     1.0\n",
       "112  110630  110740  110600  110700     0.0"
      ]
     },
     "execution_count": 89,
     "metadata": {},
     "output_type": "execute_result"
    }
   ],
   "source": [
    "data.tail(5)"
   ]
  }
 ],
 "metadata": {
  "kernelspec": {
   "display_name": "Python 3 (ipykernel)",
   "language": "python",
   "name": "python3"
  },
  "language_info": {
   "codemirror_mode": {
    "name": "ipython",
    "version": 3
   },
   "file_extension": ".py",
   "mimetype": "text/x-python",
   "name": "python",
   "nbconvert_exporter": "python",
   "pygments_lexer": "ipython3",
   "version": "3.9.9"
  }
 },
 "nbformat": 4,
 "nbformat_minor": 5
}
